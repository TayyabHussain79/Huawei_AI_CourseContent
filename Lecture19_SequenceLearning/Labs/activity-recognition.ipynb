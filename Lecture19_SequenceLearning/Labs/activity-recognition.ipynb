{
 "cells": [
  {
   "cell_type": "markdown",
   "metadata": {},
   "source": [
    "## Deep Sequence Modeling Lab: Activity Recognition with RNNs, LSTMs, and GRUs"
   ]
  },
  {
   "cell_type": "markdown",
   "metadata": {},
   "source": [
    "This lab explores different architectures for modeling sequential data in videos. We'll use the UCF-101 dataset with 5 classes for human activity recognition and compare the performance of:\n",
    "\n",
    "1. Recurrent Neural Networks (RNNs)\n",
    "2. Long Short-Term Memory networks (LSTMs)\n",
    "3. Gated Recurrent Units (GRUs)"
   ]
  },
  {
   "cell_type": "markdown",
   "metadata": {},
   "source": [
    "### 1. Imports and Setup"
   ]
  },
  {
   "cell_type": "code",
   "execution_count": 1,
   "metadata": {
    "execution": {
     "iopub.execute_input": "2025-03-16T23:58:32.601025Z",
     "iopub.status.busy": "2025-03-16T23:58:32.600638Z",
     "iopub.status.idle": "2025-03-16T23:58:39.366944Z",
     "shell.execute_reply": "2025-03-16T23:58:39.366052Z",
     "shell.execute_reply.started": "2025-03-16T23:58:32.600997Z"
    },
    "trusted": true
   },
   "outputs": [],
   "source": [
    "import torch\n",
    "import torch.nn as nn\n",
    "import torch.optim as optim\n",
    "import torchvision.transforms as transforms\n",
    "from torch.utils.data import DataLoader, Dataset\n",
    "from torchvision import models\n",
    "import numpy as np\n",
    "import cv2\n",
    "import os\n",
    "import matplotlib.pyplot as plt\n",
    "from tqdm import tqdm\n",
    "import pandas as pd\n",
    "import seaborn as sns"
   ]
  },
  {
   "cell_type": "markdown",
   "metadata": {},
   "source": [
    "**Device-agnostic code**"
   ]
  },
  {
   "cell_type": "code",
   "execution_count": 2,
   "metadata": {
    "execution": {
     "iopub.execute_input": "2025-03-17T00:03:41.019708Z",
     "iopub.status.busy": "2025-03-17T00:03:41.019250Z",
     "iopub.status.idle": "2025-03-17T00:03:41.093793Z",
     "shell.execute_reply": "2025-03-17T00:03:41.092706Z",
     "shell.execute_reply.started": "2025-03-17T00:03:41.019677Z"
    },
    "trusted": true
   },
   "outputs": [
    {
     "name": "stdout",
     "output_type": "stream",
     "text": [
      "Using device: cuda\n"
     ]
    }
   ],
   "source": [
    "device = torch.device(\"cuda\" if torch.cuda.is_available() else \"cpu\")\n",
    "print(f\"Using device: {device}\")"
   ]
  },
  {
   "cell_type": "markdown",
   "metadata": {},
   "source": [
    "### 2. Data Loading and Visualization"
   ]
  },
  {
   "cell_type": "markdown",
   "metadata": {},
   "source": [
    "**Dataset Preprocessing (UCF101 with 5 classes)**"
   ]
  },
  {
   "cell_type": "code",
   "execution_count": 3,
   "metadata": {
    "execution": {
     "iopub.execute_input": "2025-03-17T00:03:43.921133Z",
     "iopub.status.busy": "2025-03-17T00:03:43.920695Z",
     "iopub.status.idle": "2025-03-17T00:03:43.924596Z",
     "shell.execute_reply": "2025-03-17T00:03:43.923823Z",
     "shell.execute_reply.started": "2025-03-17T00:03:43.921095Z"
    },
    "trusted": true
   },
   "outputs": [],
   "source": [
    "# Use only 5 related classes for action recognition\n",
    "SELECTED_CLASSES = ['Basketball', 'SoccerJuggling', 'TennisSwing', 'WalkingWithDog', 'JumpRope']"
   ]
  },
  {
   "cell_type": "markdown",
   "metadata": {},
   "source": [
    "### Dataset class"
   ]
  },
  {
   "cell_type": "code",
   "execution_count": 16,
   "metadata": {
    "execution": {
     "iopub.execute_input": "2025-03-17T00:15:03.110449Z",
     "iopub.status.busy": "2025-03-17T00:15:03.110106Z",
     "iopub.status.idle": "2025-03-17T00:15:03.118230Z",
     "shell.execute_reply": "2025-03-17T00:15:03.117304Z",
     "shell.execute_reply.started": "2025-03-17T00:15:03.110420Z"
    },
    "trusted": true
   },
   "outputs": [],
   "source": [
    "class UCF101Dataset(Dataset):\n",
    "    def __init__(self, root_dir, transform=None, sequence_length=16):\n",
    "        self.root_dir = root_dir\n",
    "        self.transform = transform\n",
    "        self.sequence_length = sequence_length\n",
    "        self.classes = [cls for cls in os.listdir(root_dir) if cls in SELECTED_CLASSES]\n",
    "        self.data = []\n",
    "        \n",
    "        for class_idx, class_name in enumerate(self.classes):\n",
    "            class_path = os.path.join(root_dir, class_name)\n",
    "            videos = os.listdir(class_path)\n",
    "            for video in videos:\n",
    "                video_path = os.path.join(class_path, video)\n",
    "                self.data.append((video_path, class_idx))\n",
    "    \n",
    "    def __len__(self):\n",
    "        return len(self.data)\n",
    "    \n",
    "    def __getitem__(self, idx):\n",
    "        video_path, class_idx = self.data[idx]\n",
    "        frames = self._load_video(video_path)\n",
    "        return frames, class_idx\n",
    "    \n",
    "    @staticmethod\n",
    "    def _load_video(video_path, sequence_length=16):\n",
    "        cap = cv2.VideoCapture(video_path)\n",
    "        total_frames = int(cap.get(cv2.CAP_PROP_FRAME_COUNT))\n",
    "        frames = []\n",
    "        \n",
    "        for i in range(sequence_length):\n",
    "            frame_id = int(i * total_frames / sequence_length)\n",
    "            cap.set(cv2.CAP_PROP_POS_FRAMES, frame_id)\n",
    "            ret, frame = cap.read()\n",
    "            if ret:\n",
    "                frame = cv2.cvtColor(frame, cv2.COLOR_BGR2RGB)\n",
    "                frame = cv2.resize(frame, (224, 224))  # Adjust as per model input\n",
    "                frames.append(frame)\n",
    "        \n",
    "        cap.release()\n",
    "        video_tensor = torch.tensor(np.array(frames), dtype=torch.float32).permute(3, 0, 1, 2)  # (C, T, H, W)\n",
    "        return video_tensor / 255.0  # Normalize"
   ]
  },
  {
   "cell_type": "markdown",
   "metadata": {},
   "source": [
    "### Data preparation"
   ]
  },
  {
   "cell_type": "code",
   "execution_count": 5,
   "metadata": {
    "execution": {
     "iopub.execute_input": "2025-03-17T00:03:55.145441Z",
     "iopub.status.busy": "2025-03-17T00:03:55.145163Z",
     "iopub.status.idle": "2025-03-17T00:03:55.149208Z",
     "shell.execute_reply": "2025-03-17T00:03:55.148418Z",
     "shell.execute_reply.started": "2025-03-17T00:03:55.145419Z"
    },
    "trusted": true
   },
   "outputs": [],
   "source": [
    "transform = transforms.Compose([transforms.ToTensor()])"
   ]
  },
  {
   "cell_type": "code",
   "execution_count": 6,
   "metadata": {
    "execution": {
     "iopub.execute_input": "2025-03-17T00:03:55.897535Z",
     "iopub.status.busy": "2025-03-17T00:03:55.897267Z",
     "iopub.status.idle": "2025-03-17T00:03:55.901062Z",
     "shell.execute_reply": "2025-03-17T00:03:55.900234Z",
     "shell.execute_reply.started": "2025-03-17T00:03:55.897514Z"
    },
    "trusted": true
   },
   "outputs": [],
   "source": [
    "# dataset directories\n",
    "train_dir = \"/kaggle/input/ucf101-action-recognition/train\"\n",
    "val_dir = \"/kaggle/input/ucf101-action-recognition/val\"\n",
    "test_dir = \"/kaggle/input/ucf101-action-recognition/test\""
   ]
  },
  {
   "cell_type": "code",
   "execution_count": 7,
   "metadata": {
    "execution": {
     "iopub.execute_input": "2025-03-17T00:03:56.745664Z",
     "iopub.status.busy": "2025-03-17T00:03:56.745384Z",
     "iopub.status.idle": "2025-03-17T00:03:56.989115Z",
     "shell.execute_reply": "2025-03-17T00:03:56.988426Z",
     "shell.execute_reply.started": "2025-03-17T00:03:56.745643Z"
    },
    "trusted": true
   },
   "outputs": [],
   "source": [
    "# Create dataset instances\n",
    "train_dataset = UCF101Dataset(root_dir=train_dir, transform=transform)\n",
    "val_dataset = UCF101Dataset(root_dir=val_dir, transform=transform)\n",
    "test_dataset = UCF101Dataset(root_dir=test_dir, transform=transform)"
   ]
  },
  {
   "cell_type": "code",
   "execution_count": 8,
   "metadata": {
    "execution": {
     "iopub.execute_input": "2025-03-17T00:03:59.539844Z",
     "iopub.status.busy": "2025-03-17T00:03:59.539485Z",
     "iopub.status.idle": "2025-03-17T00:03:59.544061Z",
     "shell.execute_reply": "2025-03-17T00:03:59.543144Z",
     "shell.execute_reply.started": "2025-03-17T00:03:59.539815Z"
    },
    "trusted": true
   },
   "outputs": [],
   "source": [
    "# Create data loaders\n",
    "train_loader = DataLoader(train_dataset, batch_size=8, shuffle=True)\n",
    "val_loader = DataLoader(val_dataset, batch_size=8, shuffle=False)\n",
    "test_loader = DataLoader(test_dataset, batch_size=8, shuffle=False)"
   ]
  },
  {
   "cell_type": "code",
   "execution_count": 9,
   "metadata": {
    "execution": {
     "iopub.execute_input": "2025-03-17T00:04:00.398292Z",
     "iopub.status.busy": "2025-03-17T00:04:00.397967Z",
     "iopub.status.idle": "2025-03-17T00:04:00.404114Z",
     "shell.execute_reply": "2025-03-17T00:04:00.403271Z",
     "shell.execute_reply.started": "2025-03-17T00:04:00.398262Z"
    },
    "trusted": true
   },
   "outputs": [
    {
     "data": {
      "text/plain": [
       "79"
      ]
     },
     "execution_count": 9,
     "metadata": {},
     "output_type": "execute_result"
    }
   ],
   "source": [
    "len(train_loader)"
   ]
  },
  {
   "cell_type": "markdown",
   "metadata": {},
   "source": [
    "**Visualizing Random Samples from Dataset**"
   ]
  },
  {
   "cell_type": "code",
   "execution_count": 10,
   "metadata": {
    "execution": {
     "iopub.execute_input": "2025-03-17T00:04:03.783312Z",
     "iopub.status.busy": "2025-03-17T00:04:03.782975Z",
     "iopub.status.idle": "2025-03-17T00:04:04.530381Z",
     "shell.execute_reply": "2025-03-17T00:04:04.529433Z",
     "shell.execute_reply.started": "2025-03-17T00:04:03.783276Z"
    },
    "trusted": true
   },
   "outputs": [
    {
     "data": {
      "image/png": "[encoded data removed]",
      "text/plain": [
       "<Figure size 1500x500 with 3 Axes>"
      ]
     },
     "metadata": {},
     "output_type": "display_data"
    }
   ],
   "source": [
    "def show_random_samples(dataset, num_samples=3):\n",
    "    fig, axes = plt.subplots(1, num_samples, figsize=(15, 5))\n",
    "    for i in range(num_samples):\n",
    "        idx = np.random.randint(0, len(dataset))\n",
    "        frames, label = dataset[idx]\n",
    "        frame = frames[:, 0, :, :].permute(1, 2, 0).numpy()  # Display the first frame\n",
    "        axes[i].imshow(frame)\n",
    "        axes[i].set_title(f\"Class: {SELECTED_CLASSES[label]}\")\n",
    "        axes[i].axis('off')\n",
    "    plt.show()\n",
    "\n",
    "show_random_samples(train_dataset)"
   ]
  },
  {
   "cell_type": "markdown",
   "metadata": {},
   "source": [
    "### 3. Models Training and Evaluation"
   ]
  },
  {
   "cell_type": "markdown",
   "metadata": {},
   "source": [
    "#### **RNN Architecture**"
   ]
  },
  {
   "cell_type": "code",
   "execution_count": 132,
   "metadata": {
    "execution": {
     "iopub.execute_input": "2025-03-15T19:12:24.793177Z",
     "iopub.status.busy": "2025-03-15T19:12:24.792888Z",
     "iopub.status.idle": "2025-03-15T19:12:24.798723Z",
     "shell.execute_reply": "2025-03-15T19:12:24.797894Z",
     "shell.execute_reply.started": "2025-03-15T19:12:24.793156Z"
    },
    "trusted": true
   },
   "outputs": [],
   "source": [
    "# Define RNN-based model (CNN + RNN)\n",
    "class CNN_RNN(nn.Module):\n",
    "    def __init__(self, num_classes=5):\n",
    "        super(CNN_RNN, self).__init__()\n",
    "        self.cnn = models.resnet18(weights=models.ResNet18_Weights.IMAGENET1K_V1)\n",
    "        self.cnn.fc = nn.Linear(self.cnn.fc.in_features, 512)\n",
    "        self.rnn = nn.RNN(512, 128, batch_first=True)\n",
    "        self.fc = nn.Linear(128, num_classes)\n",
    "\n",
    "    def forward(self, x):\n",
    "        batch_size, C, T, H, W = x.shape\n",
    "        x = x.permute(0, 2, 1, 3, 4).contiguous()  # (B, T, C, H, W)\n",
    "        x = x.view(batch_size * T, C, H, W)\n",
    "        x = self.cnn(x)  # (B*T, 512)\n",
    "        x = x.view(batch_size, T, -1)\n",
    "        x, _ = self.rnn(x)\n",
    "        x = self.fc(x[:, -1, :])\n",
    "        return x"
   ]
  },
  {
   "cell_type": "code",
   "execution_count": 133,
   "metadata": {
    "execution": {
     "iopub.execute_input": "2025-03-15T19:12:29.970108Z",
     "iopub.status.busy": "2025-03-15T19:12:29.969796Z",
     "iopub.status.idle": "2025-03-15T19:12:30.188324Z",
     "shell.execute_reply": "2025-03-15T19:12:30.187383Z",
     "shell.execute_reply.started": "2025-03-15T19:12:29.970084Z"
    },
    "trusted": true
   },
   "outputs": [],
   "source": [
    "# Initialize model, loss, and optimizer\n",
    "model_rnn = CNN_RNN(num_classes=5).to(device)\n",
    "criterion = nn.CrossEntropyLoss()\n",
    "optimizer = optim.Adam(model_rnn.parameters(), lr=0.001)"
   ]
  },
  {
   "cell_type": "markdown",
   "metadata": {},
   "source": [
    "**Training loop**"
   ]
  },
  {
   "cell_type": "code",
   "execution_count": 134,
   "metadata": {
    "execution": {
     "iopub.execute_input": "2025-03-15T19:12:42.336012Z",
     "iopub.status.busy": "2025-03-15T19:12:42.335711Z",
     "iopub.status.idle": "2025-03-15T19:25:33.366265Z",
     "shell.execute_reply": "2025-03-15T19:25:33.365461Z",
     "shell.execute_reply.started": "2025-03-15T19:12:42.335990Z"
    },
    "trusted": true
   },
   "outputs": [
    {
     "name": "stderr",
     "output_type": "stream",
     "text": [
      "100%|██████████| 79/79 [00:38<00:00,  2.03it/s]\n"
     ]
    },
    {
     "name": "stdout",
     "output_type": "stream",
     "text": [
      "Epoch 1, Loss: 1.2668804028366185\n"
     ]
    },
    {
     "name": "stderr",
     "output_type": "stream",
     "text": [
      "100%|██████████| 79/79 [00:38<00:00,  2.05it/s]\n"
     ]
    },
    {
     "name": "stdout",
     "output_type": "stream",
     "text": [
      "Epoch 2, Loss: 1.1978958173643184\n"
     ]
    },
    {
     "name": "stderr",
     "output_type": "stream",
     "text": [
      "100%|██████████| 79/79 [00:38<00:00,  2.03it/s]\n"
     ]
    },
    {
     "name": "stdout",
     "output_type": "stream",
     "text": [
      "Epoch 3, Loss: 1.0816248994839341\n"
     ]
    },
    {
     "name": "stderr",
     "output_type": "stream",
     "text": [
      "100%|██████████| 79/79 [00:38<00:00,  2.04it/s]\n"
     ]
    },
    {
     "name": "stdout",
     "output_type": "stream",
     "text": [
      "Epoch 4, Loss: 1.07252608673482\n"
     ]
    },
    {
     "name": "stderr",
     "output_type": "stream",
     "text": [
      "100%|██████████| 79/79 [00:38<00:00,  2.03it/s]\n"
     ]
    },
    {
     "name": "stdout",
     "output_type": "stream",
     "text": [
      "Epoch 5, Loss: 1.0940409800674342\n"
     ]
    },
    {
     "name": "stderr",
     "output_type": "stream",
     "text": [
      "100%|██████████| 79/79 [00:38<00:00,  2.05it/s]\n"
     ]
    },
    {
     "name": "stdout",
     "output_type": "stream",
     "text": [
      "Epoch 6, Loss: 1.1736000897009162\n"
     ]
    },
    {
     "name": "stderr",
     "output_type": "stream",
     "text": [
      "100%|██████████| 79/79 [00:38<00:00,  2.04it/s]\n"
     ]
    },
    {
     "name": "stdout",
     "output_type": "stream",
     "text": [
      "Epoch 7, Loss: 1.1597994830034957\n"
     ]
    },
    {
     "name": "stderr",
     "output_type": "stream",
     "text": [
      "100%|██████████| 79/79 [00:38<00:00,  2.04it/s]\n"
     ]
    },
    {
     "name": "stdout",
     "output_type": "stream",
     "text": [
      "Epoch 8, Loss: 1.11453581988057\n"
     ]
    },
    {
     "name": "stderr",
     "output_type": "stream",
     "text": [
      "100%|██████████| 79/79 [00:38<00:00,  2.05it/s]\n"
     ]
    },
    {
     "name": "stdout",
     "output_type": "stream",
     "text": [
      "Epoch 9, Loss: 1.0754147534128986\n"
     ]
    },
    {
     "name": "stderr",
     "output_type": "stream",
     "text": [
      "100%|██████████| 79/79 [00:38<00:00,  2.06it/s]\n"
     ]
    },
    {
     "name": "stdout",
     "output_type": "stream",
     "text": [
      "Epoch 10, Loss: 1.0044392683083498\n"
     ]
    },
    {
     "name": "stderr",
     "output_type": "stream",
     "text": [
      "100%|██████████| 79/79 [00:38<00:00,  2.06it/s]\n"
     ]
    },
    {
     "name": "stdout",
     "output_type": "stream",
     "text": [
      "Epoch 11, Loss: 1.1432308290578141\n"
     ]
    },
    {
     "name": "stderr",
     "output_type": "stream",
     "text": [
      "100%|██████████| 79/79 [00:38<00:00,  2.05it/s]\n"
     ]
    },
    {
     "name": "stdout",
     "output_type": "stream",
     "text": [
      "Epoch 12, Loss: 1.0904504641701904\n"
     ]
    },
    {
     "name": "stderr",
     "output_type": "stream",
     "text": [
      "100%|██████████| 79/79 [00:38<00:00,  2.06it/s]\n"
     ]
    },
    {
     "name": "stdout",
     "output_type": "stream",
     "text": [
      "Epoch 13, Loss: 0.9491451635390897\n"
     ]
    },
    {
     "name": "stderr",
     "output_type": "stream",
     "text": [
      "100%|██████████| 79/79 [00:38<00:00,  2.05it/s]\n"
     ]
    },
    {
     "name": "stdout",
     "output_type": "stream",
     "text": [
      "Epoch 14, Loss: 1.037039783559268\n"
     ]
    },
    {
     "name": "stderr",
     "output_type": "stream",
     "text": [
      "100%|██████████| 79/79 [00:38<00:00,  2.05it/s]\n"
     ]
    },
    {
     "name": "stdout",
     "output_type": "stream",
     "text": [
      "Epoch 15, Loss: 1.2111602848089194\n"
     ]
    },
    {
     "name": "stderr",
     "output_type": "stream",
     "text": [
      "100%|██████████| 79/79 [00:38<00:00,  2.05it/s]\n"
     ]
    },
    {
     "name": "stdout",
     "output_type": "stream",
     "text": [
      "Epoch 16, Loss: 1.0143374781819838\n"
     ]
    },
    {
     "name": "stderr",
     "output_type": "stream",
     "text": [
      "100%|██████████| 79/79 [00:38<00:00,  2.05it/s]\n"
     ]
    },
    {
     "name": "stdout",
     "output_type": "stream",
     "text": [
      "Epoch 17, Loss: 1.0574247086349922\n"
     ]
    },
    {
     "name": "stderr",
     "output_type": "stream",
     "text": [
      "100%|██████████| 79/79 [00:38<00:00,  2.06it/s]\n"
     ]
    },
    {
     "name": "stdout",
     "output_type": "stream",
     "text": [
      "Epoch 18, Loss: 0.978226086761378\n"
     ]
    },
    {
     "name": "stderr",
     "output_type": "stream",
     "text": [
      "100%|██████████| 79/79 [00:38<00:00,  2.07it/s]\n"
     ]
    },
    {
     "name": "stdout",
     "output_type": "stream",
     "text": [
      "Epoch 19, Loss: 0.8641975344736365\n"
     ]
    },
    {
     "name": "stderr",
     "output_type": "stream",
     "text": [
      "100%|██████████| 79/79 [00:38<00:00,  2.06it/s]"
     ]
    },
    {
     "name": "stdout",
     "output_type": "stream",
     "text": [
      "Epoch 20, Loss: 0.8194533179077921\n"
     ]
    },
    {
     "name": "stderr",
     "output_type": "stream",
     "text": [
      "\n"
     ]
    }
   ],
   "source": [
    "model_rnn.train_losses = []\n",
    "\n",
    "epochs = 20\n",
    "for epoch in range(epochs):\n",
    "    model_rnn.train()\n",
    "    running_loss = 0.0\n",
    "    for inputs, labels in tqdm(train_loader):\n",
    "        inputs, labels = inputs.to(device), labels.to(device)\n",
    "        optimizer.zero_grad()\n",
    "        outputs = model_rnn(inputs)\n",
    "        loss = criterion(outputs, labels)\n",
    "        loss.backward()\n",
    "        optimizer.step()\n",
    "        running_loss += loss.item()\n",
    "    epoch_loss = running_loss / len(train_loader)\n",
    "    model_rnn.train_losses.append(epoch_loss)  # Store epoch loss\n",
    "    print(f\"Epoch {epoch+1}, Loss: {running_loss/len(train_loader)}\")"
   ]
  },
  {
   "cell_type": "markdown",
   "metadata": {},
   "source": [
    "**Evaluation**"
   ]
  },
  {
   "cell_type": "code",
   "execution_count": 140,
   "metadata": {
    "execution": {
     "iopub.execute_input": "2025-03-15T19:38:40.360367Z",
     "iopub.status.busy": "2025-03-15T19:38:40.360037Z",
     "iopub.status.idle": "2025-03-15T19:38:46.600468Z",
     "shell.execute_reply": "2025-03-15T19:38:46.599578Z",
     "shell.execute_reply.started": "2025-03-15T19:38:40.360332Z"
    },
    "trusted": true
   },
   "outputs": [
    {
     "name": "stdout",
     "output_type": "stream",
     "text": [
      "Test Accuracy (RNN): 71.29629629629629%\n"
     ]
    }
   ],
   "source": [
    "model_rnn.eval()\n",
    "correct = 0\n",
    "total = 0\n",
    "with torch.no_grad():\n",
    "    for inputs, labels in test_loader:\n",
    "        inputs, labels = inputs.to(device), labels.to(device)\n",
    "        outputs = model_rnn(inputs)\n",
    "        _, predicted = torch.max(outputs.data, 1)\n",
    "        total += labels.size(0)\n",
    "        correct += (predicted == labels).sum().item()\n",
    "test_acc_rnn = 100 * correct / total\n",
    "print(f\"Test Accuracy (RNN): {test_acc_rnn}%\")"
   ]
  },
  {
   "cell_type": "markdown",
   "metadata": {},
   "source": [
    "#### **LSTM-based model**"
   ]
  },
  {
   "cell_type": "code",
   "execution_count": 141,
   "metadata": {
    "execution": {
     "iopub.execute_input": "2025-03-15T19:38:46.601728Z",
     "iopub.status.busy": "2025-03-15T19:38:46.601483Z",
     "iopub.status.idle": "2025-03-15T19:38:46.607487Z",
     "shell.execute_reply": "2025-03-15T19:38:46.606663Z",
     "shell.execute_reply.started": "2025-03-15T19:38:46.601705Z"
    },
    "trusted": true
   },
   "outputs": [],
   "source": [
    "class CNN_LSTM(nn.Module):\n",
    "    def __init__(self, num_classes=5):\n",
    "        super(CNN_LSTM, self).__init__()\n",
    "        self.cnn = models.resnet18(weights=models.ResNet18_Weights.IMAGENET1K_V1)\n",
    "        self.cnn.fc = nn.Identity()\n",
    "        self.lstm = nn.LSTM(512, 128, batch_first=True)\n",
    "        self.fc = nn.Linear(128, num_classes)\n",
    "\n",
    "    def forward(self, x):\n",
    "        batch_size, C, T, H, W = x.shape\n",
    "        x = x.permute(0, 2, 1, 3, 4).contiguous()\n",
    "        x = x.view(batch_size * T, C, H, W)\n",
    "        x = self.cnn(x)\n",
    "        x = x.view(batch_size, T, -1)\n",
    "        x, _ = self.lstm(x)\n",
    "        x = self.fc(x[:, -1, :])\n",
    "        return x"
   ]
  },
  {
   "cell_type": "code",
   "execution_count": 137,
   "metadata": {
    "execution": {
     "iopub.execute_input": "2025-03-15T19:25:40.619716Z",
     "iopub.status.busy": "2025-03-15T19:25:40.619414Z",
     "iopub.status.idle": "2025-03-15T19:25:40.818340Z",
     "shell.execute_reply": "2025-03-15T19:25:40.817441Z",
     "shell.execute_reply.started": "2025-03-15T19:25:40.619688Z"
    },
    "trusted": true
   },
   "outputs": [],
   "source": [
    "# Initialize model, loss, and optimizer\n",
    "model_lstm = CNN_LSTM(num_classes=5).to(device)\n",
    "criterion = nn.CrossEntropyLoss()\n",
    "optimizer = optim.Adam(model_lstm.parameters(), lr=0.001)"
   ]
  },
  {
   "cell_type": "markdown",
   "metadata": {},
   "source": [
    "**Training loop**"
   ]
  },
  {
   "cell_type": "code",
   "execution_count": 138,
   "metadata": {
    "execution": {
     "iopub.execute_input": "2025-03-15T19:25:40.819620Z",
     "iopub.status.busy": "2025-03-15T19:25:40.819375Z",
     "iopub.status.idle": "2025-03-15T19:38:34.566684Z",
     "shell.execute_reply": "2025-03-15T19:38:34.565781Z",
     "shell.execute_reply.started": "2025-03-15T19:25:40.819600Z"
    },
    "trusted": true
   },
   "outputs": [
    {
     "name": "stderr",
     "output_type": "stream",
     "text": [
      "100%|██████████| 79/79 [00:39<00:00,  2.02it/s]\n"
     ]
    },
    {
     "name": "stdout",
     "output_type": "stream",
     "text": [
      "Epoch 1, Loss: 1.2248469221441052\n"
     ]
    },
    {
     "name": "stderr",
     "output_type": "stream",
     "text": [
      "100%|██████████| 79/79 [00:38<00:00,  2.04it/s]\n"
     ]
    },
    {
     "name": "stdout",
     "output_type": "stream",
     "text": [
      "Epoch 2, Loss: 0.9636881555183024\n"
     ]
    },
    {
     "name": "stderr",
     "output_type": "stream",
     "text": [
      "100%|██████████| 79/79 [00:38<00:00,  2.03it/s]\n"
     ]
    },
    {
     "name": "stdout",
     "output_type": "stream",
     "text": [
      "Epoch 3, Loss: 0.8636360051511209\n"
     ]
    },
    {
     "name": "stderr",
     "output_type": "stream",
     "text": [
      "100%|██████████| 79/79 [00:39<00:00,  2.02it/s]\n"
     ]
    },
    {
     "name": "stdout",
     "output_type": "stream",
     "text": [
      "Epoch 4, Loss: 0.7966392719292943\n"
     ]
    },
    {
     "name": "stderr",
     "output_type": "stream",
     "text": [
      "100%|██████████| 79/79 [00:39<00:00,  2.02it/s]\n"
     ]
    },
    {
     "name": "stdout",
     "output_type": "stream",
     "text": [
      "Epoch 5, Loss: 0.6254548081491567\n"
     ]
    },
    {
     "name": "stderr",
     "output_type": "stream",
     "text": [
      "100%|██████████| 79/79 [00:38<00:00,  2.04it/s]\n"
     ]
    },
    {
     "name": "stdout",
     "output_type": "stream",
     "text": [
      "Epoch 6, Loss: 0.5961493465907967\n"
     ]
    },
    {
     "name": "stderr",
     "output_type": "stream",
     "text": [
      "100%|██████████| 79/79 [00:38<00:00,  2.06it/s]\n"
     ]
    },
    {
     "name": "stdout",
     "output_type": "stream",
     "text": [
      "Epoch 7, Loss: 0.5968783369547204\n"
     ]
    },
    {
     "name": "stderr",
     "output_type": "stream",
     "text": [
      "100%|██████████| 79/79 [00:38<00:00,  2.06it/s]\n"
     ]
    },
    {
     "name": "stdout",
     "output_type": "stream",
     "text": [
      "Epoch 8, Loss: 0.44487081524692\n"
     ]
    },
    {
     "name": "stderr",
     "output_type": "stream",
     "text": [
      "100%|██████████| 79/79 [00:38<00:00,  2.06it/s]\n"
     ]
    },
    {
     "name": "stdout",
     "output_type": "stream",
     "text": [
      "Epoch 9, Loss: 0.3408424559084675\n"
     ]
    },
    {
     "name": "stderr",
     "output_type": "stream",
     "text": [
      "100%|██████████| 79/79 [00:38<00:00,  2.05it/s]\n"
     ]
    },
    {
     "name": "stdout",
     "output_type": "stream",
     "text": [
      "Epoch 10, Loss: 0.40551069081772734\n"
     ]
    },
    {
     "name": "stderr",
     "output_type": "stream",
     "text": [
      "100%|██████████| 79/79 [00:38<00:00,  2.06it/s]\n"
     ]
    },
    {
     "name": "stdout",
     "output_type": "stream",
     "text": [
      "Epoch 11, Loss: 0.33114601303882235\n"
     ]
    },
    {
     "name": "stderr",
     "output_type": "stream",
     "text": [
      "100%|██████████| 79/79 [00:38<00:00,  2.05it/s]\n"
     ]
    },
    {
     "name": "stdout",
     "output_type": "stream",
     "text": [
      "Epoch 12, Loss: 0.3105124826012533\n"
     ]
    },
    {
     "name": "stderr",
     "output_type": "stream",
     "text": [
      "100%|██████████| 79/79 [00:38<00:00,  2.04it/s]\n"
     ]
    },
    {
     "name": "stdout",
     "output_type": "stream",
     "text": [
      "Epoch 13, Loss: 0.3846850250906582\n"
     ]
    },
    {
     "name": "stderr",
     "output_type": "stream",
     "text": [
      "100%|██████████| 79/79 [00:38<00:00,  2.04it/s]\n"
     ]
    },
    {
     "name": "stdout",
     "output_type": "stream",
     "text": [
      "Epoch 14, Loss: 0.25507149423319325\n"
     ]
    },
    {
     "name": "stderr",
     "output_type": "stream",
     "text": [
      "100%|██████████| 79/79 [00:38<00:00,  2.03it/s]\n"
     ]
    },
    {
     "name": "stdout",
     "output_type": "stream",
     "text": [
      "Epoch 15, Loss: 0.26071657495030875\n"
     ]
    },
    {
     "name": "stderr",
     "output_type": "stream",
     "text": [
      "100%|██████████| 79/79 [00:38<00:00,  2.05it/s]\n"
     ]
    },
    {
     "name": "stdout",
     "output_type": "stream",
     "text": [
      "Epoch 16, Loss: 0.193257289349184\n"
     ]
    },
    {
     "name": "stderr",
     "output_type": "stream",
     "text": [
      "100%|██████████| 79/79 [00:38<00:00,  2.05it/s]\n"
     ]
    },
    {
     "name": "stdout",
     "output_type": "stream",
     "text": [
      "Epoch 17, Loss: 0.32125470190768757\n"
     ]
    },
    {
     "name": "stderr",
     "output_type": "stream",
     "text": [
      "100%|██████████| 79/79 [00:38<00:00,  2.06it/s]\n"
     ]
    },
    {
     "name": "stdout",
     "output_type": "stream",
     "text": [
      "Epoch 18, Loss: 0.1715960633481228\n"
     ]
    },
    {
     "name": "stderr",
     "output_type": "stream",
     "text": [
      "100%|██████████| 79/79 [00:38<00:00,  2.05it/s]\n"
     ]
    },
    {
     "name": "stdout",
     "output_type": "stream",
     "text": [
      "Epoch 19, Loss: 0.1982780861184944\n"
     ]
    },
    {
     "name": "stderr",
     "output_type": "stream",
     "text": [
      "100%|██████████| 79/79 [00:39<00:00,  2.01it/s]"
     ]
    },
    {
     "name": "stdout",
     "output_type": "stream",
     "text": [
      "Epoch 20, Loss: 0.13690594873756548\n"
     ]
    },
    {
     "name": "stderr",
     "output_type": "stream",
     "text": [
      "\n"
     ]
    }
   ],
   "source": [
    "model_lstm.train_losses = []\n",
    "\n",
    "epochs = 20\n",
    "for epoch in range(epochs):\n",
    "    model_lstm.train()\n",
    "    running_loss = 0.0\n",
    "    for inputs, labels in tqdm(train_loader):\n",
    "        inputs, labels = inputs.to(device), labels.to(device)\n",
    "        optimizer.zero_grad()\n",
    "        outputs = model_lstm(inputs)\n",
    "        loss = criterion(outputs, labels)\n",
    "        loss.backward()\n",
    "        optimizer.step()\n",
    "        running_loss += loss.item()\n",
    "    epoch_loss = running_loss / len(train_loader)\n",
    "    model_lstm.train_losses.append(epoch_loss)  # Store epoch loss\n",
    "    print(f\"Epoch {epoch+1}, Loss: {epoch_loss}\")"
   ]
  },
  {
   "cell_type": "markdown",
   "metadata": {},
   "source": [
    "**Evaluation**"
   ]
  },
  {
   "cell_type": "code",
   "execution_count": 150,
   "metadata": {
    "execution": {
     "iopub.execute_input": "2025-03-15T19:56:38.834294Z",
     "iopub.status.busy": "2025-03-15T19:56:38.833972Z",
     "iopub.status.idle": "2025-03-15T19:56:44.986836Z",
     "shell.execute_reply": "2025-03-15T19:56:44.986118Z",
     "shell.execute_reply.started": "2025-03-15T19:56:38.834256Z"
    },
    "trusted": true
   },
   "outputs": [
    {
     "name": "stdout",
     "output_type": "stream",
     "text": [
      "Test Accuracy (LSTM): 88.88888888888889%\n"
     ]
    }
   ],
   "source": [
    "model_lstm.eval()\n",
    "correct = 0\n",
    "total = 0\n",
    "with torch.no_grad():\n",
    "    for inputs, labels in test_loader:\n",
    "        inputs, labels = inputs.to(device), labels.to(device)\n",
    "        outputs = model_lstm(inputs)\n",
    "        _, predicted = torch.max(outputs.data, 1)\n",
    "        total += labels.size(0)\n",
    "        correct += (predicted == labels).sum().item()\n",
    "test_acc_lstm = 100 * correct / total\n",
    "print(f\"Test Accuracy (LSTM): {test_acc_lstm}%\")"
   ]
  },
  {
   "cell_type": "markdown",
   "metadata": {},
   "source": [
    "#### **GRU Architecture**"
   ]
  },
  {
   "cell_type": "code",
   "execution_count": 11,
   "metadata": {
    "execution": {
     "iopub.execute_input": "2025-03-17T00:04:21.501552Z",
     "iopub.status.busy": "2025-03-17T00:04:21.501273Z",
     "iopub.status.idle": "2025-03-17T00:04:21.506892Z",
     "shell.execute_reply": "2025-03-17T00:04:21.506169Z",
     "shell.execute_reply.started": "2025-03-17T00:04:21.501532Z"
    },
    "trusted": true
   },
   "outputs": [],
   "source": [
    "class CNN_GRU(nn.Module):\n",
    "    def __init__(self, num_classes=5):\n",
    "        super(CNN_GRU, self).__init__()\n",
    "        self.cnn = models.resnet18(weights=models.ResNet18_Weights.IMAGENET1K_V1)\n",
    "        self.cnn.fc = nn.Identity()\n",
    "        self.gru = nn.GRU(512, 128, batch_first=True)\n",
    "        self.fc = nn.Linear(128, num_classes)\n",
    "\n",
    "    def forward(self, x):\n",
    "        batch_size, C, T, H, W = x.shape\n",
    "        x = x.permute(0, 2, 1, 3, 4).contiguous()\n",
    "        x = x.view(batch_size * T, C, H, W)\n",
    "        x = self.cnn(x)\n",
    "        x = x.view(batch_size, T, -1)\n",
    "        x, _ = self.gru(x)\n",
    "        x = self.fc(x[:, -1, :])\n",
    "        return x"
   ]
  },
  {
   "cell_type": "code",
   "execution_count": 12,
   "metadata": {
    "execution": {
     "iopub.execute_input": "2025-03-17T00:04:25.587860Z",
     "iopub.status.busy": "2025-03-17T00:04:25.587526Z",
     "iopub.status.idle": "2025-03-17T00:04:26.422455Z",
     "shell.execute_reply": "2025-03-17T00:04:26.421807Z",
     "shell.execute_reply.started": "2025-03-17T00:04:25.587833Z"
    },
    "trusted": true
   },
   "outputs": [
    {
     "name": "stderr",
     "output_type": "stream",
     "text": [
      "Downloading: \"https://download.pytorch.org/models/resnet18-f37072fd.pth\" to /root/.cache/torch/hub/checkpoints/resnet18-f37072fd.pth\n",
      "100%|██████████| 44.7M/44.7M [00:00<00:00, 189MB/s]\n"
     ]
    }
   ],
   "source": [
    "# Initialize model, loss, and optimizer\n",
    "model_gru = CNN_GRU(num_classes=5).to(device)\n",
    "criterion = nn.CrossEntropyLoss()\n",
    "optimizer = optim.Adam(model_gru.parameters(), lr=0.001)"
   ]
  },
  {
   "cell_type": "markdown",
   "metadata": {},
   "source": [
    "**Training loop**"
   ]
  },
  {
   "cell_type": "code",
   "execution_count": 13,
   "metadata": {
    "execution": {
     "iopub.execute_input": "2025-03-17T00:04:36.291070Z",
     "iopub.status.busy": "2025-03-17T00:04:36.290763Z",
     "iopub.status.idle": "2025-03-17T00:11:14.545252Z",
     "shell.execute_reply": "2025-03-17T00:11:14.544484Z",
     "shell.execute_reply.started": "2025-03-17T00:04:36.291045Z"
    },
    "trusted": true
   },
   "outputs": [
    {
     "name": "stderr",
     "output_type": "stream",
     "text": [
      "100%|██████████| 79/79 [00:45<00:00,  1.74it/s]\n"
     ]
    },
    {
     "name": "stdout",
     "output_type": "stream",
     "text": [
      "Epoch 1, Loss: 1.1956868201871462\n"
     ]
    },
    {
     "name": "stderr",
     "output_type": "stream",
     "text": [
      "100%|██████████| 79/79 [00:38<00:00,  2.04it/s]\n"
     ]
    },
    {
     "name": "stdout",
     "output_type": "stream",
     "text": [
      "Epoch 2, Loss: 1.0060354331626167\n"
     ]
    },
    {
     "name": "stderr",
     "output_type": "stream",
     "text": [
      "100%|██████████| 79/79 [00:40<00:00,  1.97it/s]\n"
     ]
    },
    {
     "name": "stdout",
     "output_type": "stream",
     "text": [
      "Epoch 3, Loss: 0.7359054154610332\n"
     ]
    },
    {
     "name": "stderr",
     "output_type": "stream",
     "text": [
      "100%|██████████| 79/79 [00:39<00:00,  1.98it/s]\n"
     ]
    },
    {
     "name": "stdout",
     "output_type": "stream",
     "text": [
      "Epoch 4, Loss: 0.7338447053975696\n"
     ]
    },
    {
     "name": "stderr",
     "output_type": "stream",
     "text": [
      "100%|██████████| 79/79 [00:39<00:00,  2.02it/s]\n"
     ]
    },
    {
     "name": "stdout",
     "output_type": "stream",
     "text": [
      "Epoch 5, Loss: 0.5901613519350185\n"
     ]
    },
    {
     "name": "stderr",
     "output_type": "stream",
     "text": [
      "100%|██████████| 79/79 [00:38<00:00,  2.03it/s]\n"
     ]
    },
    {
     "name": "stdout",
     "output_type": "stream",
     "text": [
      "Epoch 6, Loss: 0.47266108504956283\n"
     ]
    },
    {
     "name": "stderr",
     "output_type": "stream",
     "text": [
      "100%|██████████| 79/79 [00:39<00:00,  2.02it/s]\n"
     ]
    },
    {
     "name": "stdout",
     "output_type": "stream",
     "text": [
      "Epoch 7, Loss: 0.3453999297999883\n"
     ]
    },
    {
     "name": "stderr",
     "output_type": "stream",
     "text": [
      "100%|██████████| 79/79 [00:39<00:00,  2.02it/s]\n"
     ]
    },
    {
     "name": "stdout",
     "output_type": "stream",
     "text": [
      "Epoch 8, Loss: 0.32580283760458606\n"
     ]
    },
    {
     "name": "stderr",
     "output_type": "stream",
     "text": [
      "100%|██████████| 79/79 [00:39<00:00,  2.02it/s]\n"
     ]
    },
    {
     "name": "stdout",
     "output_type": "stream",
     "text": [
      "Epoch 9, Loss: 0.3411218441928489\n"
     ]
    },
    {
     "name": "stderr",
     "output_type": "stream",
     "text": [
      "100%|██████████| 79/79 [00:38<00:00,  2.03it/s]"
     ]
    },
    {
     "name": "stdout",
     "output_type": "stream",
     "text": [
      "Epoch 10, Loss: 0.2180423540876636\n"
     ]
    },
    {
     "name": "stderr",
     "output_type": "stream",
     "text": [
      "\n"
     ]
    }
   ],
   "source": [
    "model_gru.train_losses = []\n",
    "\n",
    "epochs = 10\n",
    "for epoch in range(epochs):\n",
    "    model_gru.train()\n",
    "    running_loss = 0.0\n",
    "    for inputs, labels in tqdm(train_loader):\n",
    "        inputs, labels = inputs.to(device), labels.to(device)\n",
    "        optimizer.zero_grad()\n",
    "        outputs = model_gru(inputs)\n",
    "        loss = criterion(outputs, labels)\n",
    "        loss.backward()\n",
    "        optimizer.step()\n",
    "        running_loss += loss.item()\n",
    "    epoch_loss = running_loss / len(train_loader)\n",
    "    model_gru.train_losses.append(epoch_loss)  # Store epoch loss\n",
    "    print(f\"Epoch {epoch+1}, Loss: {running_loss/len(train_loader)}\")"
   ]
  },
  {
   "cell_type": "markdown",
   "metadata": {},
   "source": [
    "**Evaluation**"
   ]
  },
  {
   "cell_type": "code",
   "execution_count": 14,
   "metadata": {
    "execution": {
     "iopub.execute_input": "2025-03-17T00:11:14.546637Z",
     "iopub.status.busy": "2025-03-17T00:11:14.546384Z",
     "iopub.status.idle": "2025-03-17T00:11:21.749398Z",
     "shell.execute_reply": "2025-03-17T00:11:21.748619Z",
     "shell.execute_reply.started": "2025-03-17T00:11:14.546615Z"
    },
    "trusted": true
   },
   "outputs": [
    {
     "name": "stdout",
     "output_type": "stream",
     "text": [
      "Test Accuracy (GRU): 86.11111111111111%\n"
     ]
    }
   ],
   "source": [
    "model_gru.eval()\n",
    "correct = 0\n",
    "total = 0\n",
    "with torch.no_grad():\n",
    "    for inputs, labels in test_loader:\n",
    "        inputs, labels = inputs.to(device), labels.to(device)\n",
    "        outputs = model_gru(inputs)\n",
    "        _, predicted = torch.max(outputs.data, 1)\n",
    "        total += labels.size(0)\n",
    "        correct += (predicted == labels).sum().item()\n",
    "test_acc_gru = 100 * correct / total\n",
    "print(f\"Test Accuracy (GRU): {test_acc_gru}%\")"
   ]
  },
  {
   "cell_type": "markdown",
   "metadata": {},
   "source": [
    "### 4. Comparison and Visualization"
   ]
  },
  {
   "cell_type": "markdown",
   "metadata": {},
   "source": [
    "**Training Loss Comparison**"
   ]
  },
  {
   "cell_type": "code",
   "execution_count": 146,
   "metadata": {
    "execution": {
     "iopub.execute_input": "2025-03-15T19:54:37.294418Z",
     "iopub.status.busy": "2025-03-15T19:54:37.294086Z",
     "iopub.status.idle": "2025-03-15T19:54:37.502728Z",
     "shell.execute_reply": "2025-03-15T19:54:37.501926Z",
     "shell.execute_reply.started": "2025-03-15T19:54:37.294395Z"
    },
    "trusted": true
   },
   "outputs": [
    {
     "data": {
      "image/png": "[encoded data removed]",
      "text/plain": [
       "<Figure size 1200x600 with 1 Axes>"
      ]
     },
     "metadata": {},
     "output_type": "display_data"
    }
   ],
   "source": [
    "# Compare performance of all models\n",
    "models_dict = {\n",
    "    'RNN': model_rnn,\n",
    "    'LSTM': model_lstm,\n",
    "    'GRU': model_gru\n",
    "}\n",
    "\n",
    "# Plot accuracy and loss curves for each model\n",
    "plt.figure(figsize=(12, 6))\n",
    "for model_name, model in models_dict.items():\n",
    "    plt.plot(model.train_losses, label=f\"{model_name} Training Loss\")\n",
    "plt.xlabel(\"Epochs\")\n",
    "plt.ylabel(\"Loss\")\n",
    "plt.title(\"Training Loss Comparison\")\n",
    "plt.legend()\n",
    "plt.show()"
   ]
  },
  {
   "cell_type": "markdown",
   "metadata": {},
   "source": [
    "**Testing**"
   ]
  },
  {
   "cell_type": "code",
   "execution_count": 20,
   "metadata": {
    "execution": {
     "iopub.execute_input": "2025-03-17T00:17:55.534254Z",
     "iopub.status.busy": "2025-03-17T00:17:55.533940Z",
     "iopub.status.idle": "2025-03-17T00:17:55.601657Z",
     "shell.execute_reply": "2025-03-17T00:17:55.600812Z",
     "shell.execute_reply.started": "2025-03-17T00:17:55.534228Z"
    },
    "trusted": true
   },
   "outputs": [
    {
     "name": "stdout",
     "output_type": "stream",
     "text": [
      "Predicted Action: SoccerJuggling\n"
     ]
    }
   ],
   "source": [
    "def predict_video(model, video_path, device):\n",
    "    model.eval()\n",
    "    video_frames = UCF101Dataset._load_video(video_path)  # No need to pass None\n",
    "    video_frames = video_frames.unsqueeze(0).to(device)  # Add batch dimension\n",
    "\n",
    "    with torch.no_grad():\n",
    "        output = model(video_frames)\n",
    "        _, predicted_class = torch.max(output, 1)\n",
    "\n",
    "    predicted_label = SELECTED_CLASSES[predicted_class.item()]\n",
    "    print(f'Predicted Action: {predicted_label}')\n",
    "    \n",
    "    return predicted_label\n",
    "\n",
    "# Example usage\n",
    "video_path = \"/kaggle/input/ucf101-action-recognition/test/SoccerJuggling/v_SoccerJuggling_g02_c01.avi\"\n",
    "predicted_action = predict_video(model_gru, video_path, device)"
   ]
  },
  {
   "cell_type": "markdown",
   "metadata": {},
   "source": [
    "**Accuracy Comparison**"
   ]
  },
  {
   "cell_type": "code",
   "execution_count": 151,
   "metadata": {
    "execution": {
     "iopub.execute_input": "2025-03-15T19:56:57.067085Z",
     "iopub.status.busy": "2025-03-15T19:56:57.066796Z",
     "iopub.status.idle": "2025-03-15T19:56:57.071271Z",
     "shell.execute_reply": "2025-03-15T19:56:57.070251Z",
     "shell.execute_reply.started": "2025-03-15T19:56:57.067064Z"
    },
    "trusted": true
   },
   "outputs": [],
   "source": [
    "# Create DataFrame for results\n",
    "results = {\n",
    "    'Model': ['RNN', 'LSTM', 'GRU'],\n",
    "    'Accuracy': [test_acc_rnn, test_acc_lstm, test_acc_gru]\n",
    "}"
   ]
  },
  {
   "cell_type": "code",
   "execution_count": 152,
   "metadata": {
    "execution": {
     "iopub.execute_input": "2025-03-15T19:57:00.396500Z",
     "iopub.status.busy": "2025-03-15T19:57:00.396172Z",
     "iopub.status.idle": "2025-03-15T19:57:00.411843Z",
     "shell.execute_reply": "2025-03-15T19:57:00.411007Z",
     "shell.execute_reply.started": "2025-03-15T19:57:00.396465Z"
    },
    "trusted": true
   },
   "outputs": [
    {
     "name": "stdout",
     "output_type": "stream",
     "text": [
      "  Model   Accuracy\n",
      "0   RNN  71.296296\n",
      "1  LSTM  88.888889\n",
      "2   GRU  94.444444\n"
     ]
    }
   ],
   "source": [
    "df = pd.DataFrame(results)\n",
    "print(df)"
   ]
  },
  {
   "cell_type": "markdown",
   "metadata": {},
   "source": [
    "**Bar chart for accuracy comparison**"
   ]
  },
  {
   "cell_type": "code",
   "execution_count": 153,
   "metadata": {
    "execution": {
     "iopub.execute_input": "2025-03-15T19:57:03.645531Z",
     "iopub.status.busy": "2025-03-15T19:57:03.645209Z",
     "iopub.status.idle": "2025-03-15T19:57:03.993692Z",
     "shell.execute_reply": "2025-03-15T19:57:03.992855Z",
     "shell.execute_reply.started": "2025-03-15T19:57:03.645496Z"
    },
    "trusted": true
   },
   "outputs": [
    {
     "data": {
      "image/png": "[encoded data removed]",
      "text/plain": [
       "<Figure size 1200x600 with 1 Axes>"
      ]
     },
     "metadata": {},
     "output_type": "display_data"
    }
   ],
   "source": [
    "plt.figure(figsize=(12, 6))\n",
    "sns.barplot(data=df, x='Model', y='Accuracy', palette='Blues_d')\n",
    "plt.grid(axis='y', linestyle='--', alpha=0.7)\n",
    "for index, value in enumerate(df['Accuracy']):\n",
    "    plt.text(index, value + 0.01, f'{value:.2f}', ha='center', va='bottom', fontsize=12)\n",
    "plt.title('Model Accuracy Comparison (Test Set)', fontsize=18, fontweight='bold', color='navy')\n",
    "plt.xlabel('Model', fontsize=14)\n",
    "plt.ylabel('Accuracy', fontsize=14)\n",
    "plt.xticks(rotation=45, fontsize=12)\n",
    "plt.yticks(fontsize=12)\n",
    "plt.ylim(0.0, 100.0)\n",
    "plt.tight_layout()\n",
    "plt.show()"
   ]
  },
  {
   "cell_type": "markdown",
   "metadata": {},
   "source": [
    "### 5. Save the best model"
   ]
  },
  {
   "cell_type": "code",
   "execution_count": 154,
   "metadata": {
    "execution": {
     "iopub.execute_input": "2025-03-15T19:57:27.021697Z",
     "iopub.status.busy": "2025-03-15T19:57:27.021325Z",
     "iopub.status.idle": "2025-03-15T19:57:27.096043Z",
     "shell.execute_reply": "2025-03-15T19:57:27.095292Z",
     "shell.execute_reply.started": "2025-03-15T19:57:27.021666Z"
    },
    "trusted": true
   },
   "outputs": [
    {
     "name": "stdout",
     "output_type": "stream",
     "text": [
      "Best model saved as 'best_model.pth'\n"
     ]
    }
   ],
   "source": [
    "# Save the best model based on validation accuracy\n",
    "best_model = model_gru\n",
    "torch.save(best_model.state_dict(), \"best_model.pth\")\n",
    "print(\"Best model saved as 'best_model.pth'\")"
   ]
  },
  {
   "cell_type": "markdown",
   "metadata": {},
   "source": [
    "### 6. State of the Art Models"
   ]
  },
  {
   "cell_type": "markdown",
   "metadata": {},
   "source": [
    "### State-of-the-Art Models for Sequence Modeling:\n",
    "1. **3D CNN**: C3D, I3D, SlowFast\n",
    "2. **RNN**: ConvLSTM, PredRNN\n",
    "3. **LSTM**: LRCN, Beyond Short Snippets\n",
    "4. **GRU**: T-ConvGRU, Motion-Aware GRU"
   ]
  }
 ],
 "metadata": {
  "kaggle": {
   "accelerator": "gpu",
   "dataSources": [
    {
     "datasetId": 2807884,
     "sourceId": 4849320,
     "sourceType": "datasetVersion"
    }
   ],
   "dockerImageVersionId": 30919,
   "isGpuEnabled": true,
   "isInternetEnabled": true,
   "language": "python",
   "sourceType": "notebook"
  },
  "kernelspec": {
   "display_name": "Python 3",
   "language": "python",
   "name": "python3"
  },
  "language_info": {
   "codemirror_mode": {
    "name": "ipython",
    "version": 3
   },
   "file_extension": ".py",
   "mimetype": "text/x-python",
   "name": "python",
   "nbconvert_exporter": "python",
   "pygments_lexer": "ipython3",
   "version": "3.10.12"
  }
 },
 "nbformat": 4,
 "nbformat_minor": 4
}
