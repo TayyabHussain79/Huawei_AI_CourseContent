{
 "cells": [
  {
   "cell_type": "markdown",
   "metadata": {},
   "source": [
    "# Lab Work: Polymorphism in Python\n",
    "__Polymorphism__ comes from the Greek words Poly (many) and morph (forms). It is the ability of a single function or method to operate on multiple data types.\\\n",
    "In this labwork, we will see how we can achieve polymorphism in Python programming language. Polymorphism is one of the four pillars of Object Oriented Programming. The other three pillars are:\n",
    "- Inheritance\n",
    "- Encapsulation\n",
    "- Abstraction\n",
    "\n",
    "Let's first See what polymophism is with a simple example"
   ]
  },
  {
   "cell_type": "code",
   "execution_count": 6,
   "metadata": {},
   "outputs": [],
   "source": [
    "class Shape:\n",
    "    def area(self):\n",
    "        pass\n",
    "\n",
    "# Derived classes\n",
    "class Rectangle(Shape):\n",
    "    def __init__(self, width, height):\n",
    "        self.width = width\n",
    "        self.height = height\n",
    "\n",
    "    def area(self):\n",
    "        return self.width * self.height\n",
    "\n",
    "\n",
    "class Circle(Shape):\n",
    "    def __init__(self, radius):\n",
    "        self.radius = radius\n",
    "\n",
    "    def area(self):\n",
    "        return 3.14 * self.radius**2\n",
    "\n",
    "\n",
    "class Triangle(Shape):\n",
    "    def __init__(self, base, height):\n",
    "        self.base = base\n",
    "        self.height = height\n",
    "\n",
    "    def area(self):\n",
    "        return 0.5 * self.base * self.height\n",
    "\n",
    "# Function to print the area of a shape\n",
    "def print_area(shape):\n",
    "    print(f\"The area of {shape.__class__.__name__} is {shape.area()}\")"
   ]
  },
  {
   "cell_type": "code",
   "execution_count": 7,
   "metadata": {},
   "outputs": [
    {
     "name": "stdout",
     "output_type": "stream",
     "text": [
      "The area of Rectangle is 12\n",
      "The area of Circle is 12.56\n",
      "The area of Triangle is 7.5\n"
     ]
    }
   ],
   "source": [
    "rectangle = Rectangle(3, 4)\n",
    "circle = Circle(2)\n",
    "triangle = Triangle(3, 5)\n",
    "\n",
    "for shape in [rectangle, circle, triangle]:\n",
    "    print_area(shape)"
   ]
  },
  {
   "cell_type": "markdown",
   "metadata": {},
   "source": [
    "`shape.__class__.__name__`is a way to get the class name of an object in the form of a string. "
   ]
  },
  {
   "cell_type": "code",
   "execution_count": 7,
   "metadata": {},
   "outputs": [
    {
     "data": {
      "text/plain": [
       "'Triangle'"
      ]
     },
     "execution_count": 7,
     "metadata": {},
     "output_type": "execute_result"
    }
   ],
   "source": [
    "shape.__class__.__name__"
   ]
  },
  {
   "cell_type": "markdown",
   "metadata": {},
   "source": [
    "\n",
    "In Python, there are very ways to achieve polymorphic behaviors in our objects. Some of the most common ways are:\n",
    "- __Ad-hoc polymorphism__ - achieved through function overloading and operator overloading\n",
    "- __Runtime polymorphism__ - achieved through method overriding in inheritance\n",
    "- __Duck typing__ - achieved through the use of abstract classes and interfaces\n",
    "\n",
    "Let's explore each one with a practicle example:"
   ]
  },
  {
   "cell_type": "markdown",
   "metadata": {},
   "source": [
    "## Ad-hoc Polymorphism\n",
    "This type of polymorphism allow methods and operators to behave differently based on the arguments. This is achieved through function overloading and operator overloading. Let's see an example of function overloading:"
   ]
  },
  {
   "cell_type": "code",
   "execution_count": 1,
   "metadata": {},
   "outputs": [],
   "source": [
    "class Complex:\n",
    "    \"\"\"\n",
    "    A class to represent complex numbers\n",
    "    \"\"\"\n",
    "    def __init__(self, real, imag):\n",
    "        \"\"\"\n",
    "        A complex number has two parts; real and imaginary\n",
    "        \"\"\"\n",
    "        self.real = real\n",
    "        self.imag = imag\n",
    "\n",
    "    def __add__(self, other):\n",
    "        \"\"\"\n",
    "        By overloading the __add__ method, we can use the + operator\n",
    "        to support addition of two complex numbers\n",
    "        \"\"\"\n",
    "        if isinstance(other, Complex):\n",
    "            return Complex(self.real + other.real, self.imag + other.imag)\n",
    "        elif isinstance(other, (int, float)):\n",
    "            return Complex(self.real + other, self.imag)\n",
    "        else:\n",
    "            return NotImplemented\n",
    "\n",
    "    def __str__(self):\n",
    "        \"\"\"\n",
    "        By overloading the __str__ method, we can use the print()\n",
    "        function to print custom string representation for complex numbers\n",
    "        \"\"\"\n",
    "        return f\"{self.real}{self.imag:+}i\"\n",
    "\n",
    "    def __abs__(self):\n",
    "        \"\"\"\n",
    "        By overloading the __abs__ method, we can use the abs()\n",
    "        function to find the absolute value of a complex number\n",
    "        \"\"\"\n",
    "        return (self.real**2 + self.imag**2) ** 0.5"
   ]
  },
  {
   "cell_type": "code",
   "execution_count": 3,
   "metadata": {},
   "outputs": [
    {
     "name": "stdout",
     "output_type": "stream",
     "text": [
      "c1 = 3+4i\n",
      "c2 = 1-2i\n",
      "c1 + c2 = 4+2i\n"
     ]
    }
   ],
   "source": [
    "# Usage\n",
    "c1 = Complex(3, 4)\n",
    "c2 = Complex(1, -2)\n",
    "print(f\"c1 = {c1}\")\n",
    "print(f\"c2 = {c2}\")\n",
    "print(f\"c1 + c2 = {c1 + c2}\")\n",
    "# print(f\"c1 + 5 = {5+c1}\")\n",
    "# print(f\"c2+7 = {7+c2}\")\n",
    "# print(f\"|c1| = {abs(c1)}\")"
   ]
  },
  {
   "cell_type": "markdown",
   "metadata": {},
   "source": [
    "## Runtime Polymorphism\n",
    "This type of polymorphism is achieved by method overriding. In this, the method of the parent class is overridden in the child class. The method of the child class is called using the object of the child class. Which method is to be called is determined at runtime by the type of the object. It is also called subtype polymorphism.\\\n",
    "This type of polymorphism is mainly used in statically typed languages like Java and C++. But we can demonstrate this in Python as well. Let's see an example:"
   ]
  },
  {
   "cell_type": "code",
   "execution_count": 4,
   "metadata": {},
   "outputs": [],
   "source": [
    "class Employee:\n",
    "    def __init__(self, name, salary):\n",
    "        self.name = name\n",
    "        self.salary = salary\n",
    "\n",
    "    # Method to be implemented by subclasses\n",
    "    def work(self):\n",
    "        raise NotImplementedError(\"Subclass must implement abstract method\")\n",
    "\n",
    "    def get_details(self):\n",
    "        return f\"Employee: {self.name}, Salary: {self.salary}\"\n",
    "\n",
    "\n",
    "class Developer(Employee):\n",
    "    def __init__(self, name, salary, programming_language):\n",
    "        super().__init__(name, salary)\n",
    "        self.programming_language = programming_language\n",
    "\n",
    "    # Overriding\n",
    "    def work(self):\n",
    "        return f\"{self.name} is writing code in {self.programming_language}\"\n",
    "\n",
    "    def get_details(self):\n",
    "        return f\"Developer: {self.name}, Salary: {self.salary}, Language: {self.programming_language}\"\n",
    "\n",
    "\n",
    "class Manager(Employee):\n",
    "    def __init__(self, name, salary, team_size):\n",
    "        super().__init__(name, salary)\n",
    "        self.team_size = team_size\n",
    "\n",
    "    # Overriding\n",
    "    def work(self):\n",
    "        return f\"{self.name} is managing a team of {self.team_size} people\"\n",
    "\n",
    "    def get_details(self):\n",
    "        return f\"Manager: {self.name}, Salary: {self.salary}, Team Size: {self.team_size}\"\n",
    "\n",
    "\n",
    "def display_employee_details(employee_list):\n",
    "    # Polymorphism: The same function works with different types of employees\n",
    "    for employee in employee_list:\n",
    "        print(employee.get_details())\n",
    "        print(employee.work())\n",
    "        print(\"---\")"
   ]
  },
  {
   "cell_type": "code",
   "execution_count": 5,
   "metadata": {},
   "outputs": [
    {
     "name": "stdout",
     "output_type": "stream",
     "text": [
      "Developer: Alice, Salary: 90000, Language: Python\n",
      "Alice is writing code in Python\n",
      "---\n",
      "Manager: Bob, Salary: 120000, Team Size: 10\n",
      "Bob is managing a team of 10 people\n",
      "---\n"
     ]
    }
   ],
   "source": [
    "# Creating instances of Developer and Manager\n",
    "dev = Developer(\"Alice\", 90000, \"Python\")\n",
    "mgr = Manager(\"Bob\", 120000, 10)\n",
    "\n",
    "# Using polymorphism to display details of different types of employees\n",
    "display_employee_details([dev, mgr])"
   ]
  },
  {
   "cell_type": "markdown",
   "metadata": {},
   "source": [
    "## Abstract Methods\n",
    "Abstract methods are the methods that are declared in the parent class but are not implemented. The child class must implement these methods. Abstract methods can be created using the `abc module` in Python. Let's see an example:"
   ]
  },
  {
   "cell_type": "code",
   "execution_count": 16,
   "metadata": {},
   "outputs": [],
   "source": [
    "from abc import ABC, abstractmethod\n",
    "import datetime\n",
    "\n",
    "# Abstract base class\n",
    "class Content(ABC):\n",
    "    \"\"\"\n",
    "    Abstract base class representing a piece of content. It contains \n",
    "    functions that must be implemented by derived classes.\n",
    "    \"\"\"\n",
    "\n",
    "    def __init__(self, title, author):\n",
    "        self.title = title\n",
    "        self.author = author\n",
    "        self.created_at = datetime.datetime.now()\n",
    "\n",
    "    @abstractmethod\n",
    "    def display(self):\n",
    "        pass\n",
    "\n",
    "    @abstractmethod\n",
    "    def get_summary(self):\n",
    "        pass\n",
    "\n",
    "# Derived class for articles\n",
    "class Article(Content):\n",
    "    def __init__(self, title, author, body):\n",
    "        super().__init__(title, author)\n",
    "        self.body = body\n",
    "\n",
    "    def display(self):\n",
    "        return f\"Article: {self.title} by {self.author}\\n{self.body}\"\n",
    "\n",
    "    def get_summary(self):\n",
    "        return f\"{self.title} - {self.body[:50]}...\"\n",
    "\n",
    "# Derived class for videos\n",
    "class Video(Content):\n",
    "    def __init__(self, title, author, url, duration):\n",
    "        super().__init__(title, author)\n",
    "        self.url = url\n",
    "        self.duration = duration\n",
    "\n",
    "    def display(self):\n",
    "        return f\"Video: {self.title} by {self.author}\\nURL: {self.url}, Duration: {self.duration} mins\"\n",
    "\n",
    "    def get_summary(self):\n",
    "        return f\"{self.title} - {self.duration} minute video\"\n",
    "\n",
    "# Function to publish content\n",
    "def publish_content(content_list):\n",
    "    # Polymorphism: The same function works with different types of content\n",
    "    for item in content_list:\n",
    "        print(item.display())\n",
    "        print(f\"Summary: {item.get_summary()}\")\n",
    "        print(f\"Published on: {item.created_at}\")\n",
    "        print(\"---\")"
   ]
  },
  {
   "cell_type": "code",
   "execution_count": 6,
   "metadata": {},
   "outputs": [
    {
     "name": "stdout",
     "output_type": "stream",
     "text": [
      "Article: Python Polymorphism by XYZ\n",
      "Polymorphism is a fundamental concept in OOP that allows objects to be treated as instances of their parent class.\n",
      "Summary: Python Polymorphism - Polymorphism is a fundamental concept in OOP that ...\n",
      "Published on: 2024-10-23 03:24:44.982335\n",
      "---\n",
      "Video: Python Tutorial by XYZ\n",
      "URL: https://example.com/video, Duration: 15 mins\n",
      "Summary: Python Tutorial - 15 minute video\n",
      "Published on: 2024-10-23 03:24:44.982335\n",
      "---\n"
     ]
    }
   ],
   "source": [
    "# Usage\n",
    "article = Article(\n",
    "    title=\"Python Polymorphism\",\n",
    "    author=\"XYZ\",\n",
    "    body=\"Polymorphism is a fundamental concept in OOP that allows objects to be treated as instances of their parent class.\"\n",
    ")\n",
    "video = Video(\"Python Tutorial\", \"XYZ\", \"https://example.com/video\", 15)\n",
    "content_list = [article, video]\n",
    "publish_content(content_list)"
   ]
  },
  {
   "cell_type": "markdown",
   "metadata": {},
   "source": [
    "## Duck Typing - Python's Unique Approach\n",
    "__Duck typing__ is a concept related to dynamic typing, where the type or the class of an object is less important than the methods it defines.\\\n",
    "When you use duck typing, you do not check types at all. Instead, you check for the presence of a given method or attribute. This is why it is called __\"duck typing\"__ - _if it looks like a duck and quacks like a duck, then it is a duck_.\\\n",
    "\n",
    "In the provided code, `DataProcessor` uses duck typing to process data from different sources. It doesn't care whether the reader is a `JSONReader`, `CSVReader`, `DatabaseReader` or a `CustomReader` as long as the reader has a `read_data` method."
   ]
  },
  {
   "cell_type": "code",
   "execution_count": 1,
   "metadata": {},
   "outputs": [],
   "source": [
    "# Three different classes, no common base class\n",
    "class CSVReader:\n",
    "    def read_data(self, file_path):\n",
    "        print(f\"Reading CSV file: {file_path}\")\n",
    "        return [{\"name\": \"Alice\", \"age\": 30}, {\"name\": \"Bob\", \"age\": 25}]\n",
    "\n",
    "\n",
    "class JSONReader:\n",
    "    def read_data(self, file_path):\n",
    "        print(f\"Reading JSON file: {file_path}\")\n",
    "        return [{\"name\": \"Charlie\", \"age\": 35}, {\"name\": \"David\", \"age\": 28}]\n",
    "\n",
    "\n",
    "class DatabaseReader:\n",
    "    def read_data(self, connection_string):\n",
    "        print(f\"Reading from database: {connection_string}\")\n",
    "        return [{\"name\": \"Eve\", \"age\": 22}, {\"name\": \"Frank\", \"age\": 40}]\n",
    "\n",
    "# A class that processes data from different sources\n",
    "class DataProcessor:\n",
    "    def process_data(self, reader, source):\n",
    "        try:\n",
    "            data = reader.read_data(source)\n",
    "            total_age = sum(item[\"age\"] for item in data)\n",
    "            average_age = total_age / len(data)\n",
    "            print(f\"Average age: {average_age:.2f}\")\n",
    "        except AttributeError:\n",
    "            print(\"Error: Incompatible reader object\")\n",
    "        except KeyError:\n",
    "            print(\"Error: Invalid data format\")"
   ]
  },
  {
   "cell_type": "code",
   "execution_count": 2,
   "metadata": {},
   "outputs": [
    {
     "name": "stdout",
     "output_type": "stream",
     "text": [
      "Reading CSV file: data.csv\n",
      "Average age: 27.50\n",
      "Reading JSON file: data.json\n",
      "Average age: 31.50\n"
     ]
    }
   ],
   "source": [
    "csv_reader = CSVReader()\n",
    "json_reader = JSONReader()\n",
    "\n",
    "processor = DataProcessor()\n",
    "processor.process_data(csv_reader, \"data.csv\")\n",
    "processor.process_data(json_reader, \"data.json\")"
   ]
  },
  {
   "cell_type": "code",
   "execution_count": 20,
   "metadata": {},
   "outputs": [
    {
     "name": "stdout",
     "output_type": "stream",
     "text": [
      "Reading from custom source: custom_source\n",
      "Average age: 47.50\n"
     ]
    }
   ],
   "source": [
    "# This will work too, demonstrating duck typing\n",
    "class CustomReader:\n",
    "    def read_data(self, source):\n",
    "        print(f\"Reading from custom source: {source}\")\n",
    "        return [{\"name\": \"Grace\", \"age\": 45}, {\"name\": \"Henry\", \"age\": 50}]\n",
    "\n",
    "custom_reader = CustomReader()\n",
    "processor.process_data(custom_reader, \"custom_source\")"
   ]
  },
  {
   "cell_type": "markdown",
   "metadata": {},
   "source": [
    "---"
   ]
  }
 ],
 "metadata": {
  "kernelspec": {
   "display_name": "base",
   "language": "python",
   "name": "python3"
  },
  "language_info": {
   "codemirror_mode": {
    "name": "ipython",
    "version": 3
   },
   "file_extension": ".py",
   "mimetype": "text/x-python",
   "name": "python",
   "nbconvert_exporter": "python",
   "pygments_lexer": "ipython3",
   "version": "3.11.5"
  }
 },
 "nbformat": 4,
 "nbformat_minor": 2
}
