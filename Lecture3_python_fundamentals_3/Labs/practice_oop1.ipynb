{
 "cells": [
  {
   "cell_type": "markdown",
   "metadata": {},
   "source": [
    "## 1. Create a Simple Class"
   ]
  },
  {
   "cell_type": "markdown",
   "metadata": {},
   "source": [
    "Create a class named `Car` with the following attributes:\n",
    "- `brand` (e.g., \"Toyota\")\n",
    "- `color` (e.g., \"Red\")  \n",
    "\n",
    "Add a method `display_details()` to print the brand and color of the car.  \n",
    "Create an object of the class and call the method."
   ]
  },
  {
   "cell_type": "code",
   "execution_count": 1,
   "metadata": {},
   "outputs": [],
   "source": [
    "class Car:\n",
    "    def __init__(self, brand, color):\n",
    "        self.brand = brand\n",
    "        self.color = color\n",
    "    def display_details(self):\n",
    "        print(f\"Brand: {self.brand}, Color: {self.color}\")"
   ]
  },
  {
   "cell_type": "code",
   "execution_count": 2,
   "metadata": {},
   "outputs": [],
   "source": [
    "car1 = Car(\"Toyota\", \"White\")"
   ]
  },
  {
   "cell_type": "code",
   "execution_count": 3,
   "metadata": {},
   "outputs": [
    {
     "name": "stdout",
     "output_type": "stream",
     "text": [
      "Brand: Toyota, Color: White\n"
     ]
    }
   ],
   "source": [
    "car1.display_details()"
   ]
  },
  {
   "cell_type": "code",
   "execution_count": null,
   "metadata": {},
   "outputs": [],
   "source": []
  },
  {
   "cell_type": "code",
   "execution_count": null,
   "metadata": {},
   "outputs": [],
   "source": []
  },
  {
   "cell_type": "markdown",
   "metadata": {},
   "source": [
    "## 2. Calculate Area of a Rectangle"
   ]
  },
  {
   "cell_type": "markdown",
   "metadata": {},
   "source": [
    "Create a class named `Rectangle` with attributes `length` and `width`.  \n",
    "Add a method `calculate_area()` to calculate and return the area of the rectangle.  \n",
    "Create an object and display the area."
   ]
  },
  {
   "cell_type": "code",
   "execution_count": null,
   "metadata": {},
   "outputs": [],
   "source": []
  },
  {
   "cell_type": "code",
   "execution_count": null,
   "metadata": {},
   "outputs": [],
   "source": []
  },
  {
   "cell_type": "code",
   "execution_count": null,
   "metadata": {},
   "outputs": [],
   "source": []
  },
  {
   "cell_type": "markdown",
   "metadata": {},
   "source": [
    "## 3. Add a method to Update Attributes\n",
    "\n",
    "Create a class `Student` with attributes `name` and `age`.   \n",
    "Add a method `update_age()` to update the age of the student.  \n",
    "Create an object, update the age, and display the updated details."
   ]
  },
  {
   "cell_type": "code",
   "execution_count": null,
   "metadata": {},
   "outputs": [],
   "source": []
  },
  {
   "cell_type": "code",
   "execution_count": null,
   "metadata": {},
   "outputs": [],
   "source": []
  },
  {
   "cell_type": "code",
   "execution_count": null,
   "metadata": {},
   "outputs": [],
   "source": []
  },
  {
   "cell_type": "code",
   "execution_count": null,
   "metadata": {},
   "outputs": [],
   "source": []
  },
  {
   "cell_type": "code",
   "execution_count": null,
   "metadata": {},
   "outputs": [],
   "source": []
  },
  {
   "cell_type": "markdown",
   "metadata": {},
   "source": [
    "## Corvit Institute"
   ]
  },
  {
   "cell_type": "code",
   "execution_count": 13,
   "metadata": {},
   "outputs": [],
   "source": [
    "class Corvit:\n",
    "    def __init__(self):\n",
    "        self.branches = [\"Islamabad\", \"Peshawar\", \"Lahore\"]\n",
    "        self.courses = {\n",
    "            \"AI\": {\"duration\": \"3 months\", \"fee\": 45000},\n",
    "            \"Web Development\": {\"duration\": \"4 months\", \"fee\": 35000},\n",
    "            \"Graphic Design\": {\"duration\": \"2 months\", \"fee\": 25000}\n",
    "        }\n",
    "        self.students_count = 0\n",
    "    \n",
    "    def show_branches(self):\n",
    "        print(\"\\nOur Branches:\")\n",
    "        for branch in self.branches:\n",
    "            print(f\"- {branch}\")\n",
    "    \n",
    "    def show_courses(self):\n",
    "        print(\"\\nAvailable Courses:\")\n",
    "        for course, details in self.courses.items():\n",
    "            print(f\"\\nCourse: {course}\")\n",
    "            print(f\"Duration: {details['duration']}\")\n",
    "            print(f\"Fee: Rs.{details['fee']}\")\n",
    "    \n",
    "    def enroll_student(self, course_name):\n",
    "        if course_name in self.courses:\n",
    "            self.students_count += 1\n",
    "            print(f\"\\nEnrolled successfully in {course_name}\")\n",
    "            print(f\"Fee: Rs.{self.courses[course_name]['fee']}\")\n",
    "            return True\n",
    "        else:\n",
    "            print(\"\\nCourse not found!\")\n",
    "            return False"
   ]
  },
  {
   "cell_type": "code",
   "execution_count": 15,
   "metadata": {},
   "outputs": [],
   "source": [
    "institute1 = Corvit()"
   ]
  },
  {
   "cell_type": "code",
   "execution_count": 16,
   "metadata": {},
   "outputs": [
    {
     "name": "stdout",
     "output_type": "stream",
     "text": [
      "\n",
      "Our Branches:\n",
      "- Islamabad\n",
      "- Peshawar\n",
      "- Lahore\n"
     ]
    }
   ],
   "source": [
    "institute1.show_branches()"
   ]
  },
  {
   "cell_type": "code",
   "execution_count": 17,
   "metadata": {},
   "outputs": [
    {
     "name": "stdout",
     "output_type": "stream",
     "text": [
      "\n",
      "Available Courses:\n",
      "\n",
      "Course: AI\n",
      "Duration: 3 months\n",
      "Fee: Rs.45000\n",
      "\n",
      "Course: Web Development\n",
      "Duration: 4 months\n",
      "Fee: Rs.35000\n",
      "\n",
      "Course: Graphic Design\n",
      "Duration: 2 months\n",
      "Fee: Rs.25000\n"
     ]
    }
   ],
   "source": [
    "institute1.show_courses()"
   ]
  },
  {
   "cell_type": "code",
   "execution_count": 18,
   "metadata": {},
   "outputs": [
    {
     "name": "stdout",
     "output_type": "stream",
     "text": [
      "\n",
      "Enrolled successfully in AI\n",
      "Fee: Rs.45000\n"
     ]
    },
    {
     "data": {
      "text/plain": [
       "True"
      ]
     },
     "execution_count": 18,
     "metadata": {},
     "output_type": "execute_result"
    }
   ],
   "source": [
    "institute1.enroll_student(\"AI\")"
   ]
  }
 ],
 "metadata": {
  "kernelspec": {
   "display_name": "base",
   "language": "python",
   "name": "python3"
  },
  "language_info": {
   "codemirror_mode": {
    "name": "ipython",
    "version": 3
   },
   "file_extension": ".py",
   "mimetype": "text/x-python",
   "name": "python",
   "nbconvert_exporter": "python",
   "pygments_lexer": "ipython3",
   "version": "3.11.5"
  }
 },
 "nbformat": 4,
 "nbformat_minor": 2
}
