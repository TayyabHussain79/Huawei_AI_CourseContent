{
 "cells": [
  {
   "cell_type": "markdown",
   "metadata": {},
   "source": [
    "# Lab Work: Inheritance, Method Overriding, and super() in OOP"
   ]
  },
  {
   "cell_type": "markdown",
   "metadata": {},
   "source": [
    "## 1. Inheritance\n",
    "\n",
    "Inheritance enables child classes to inherit properties and behaviors from a parent class, providing reusable class structures."
   ]
  },
  {
   "cell_type": "code",
   "execution_count": 1,
   "metadata": {},
   "outputs": [],
   "source": [
    "class Student:\n",
    "    def __init__(self, name, age):\n",
    "        self.name = name\n",
    "        self.age = age\n",
    "    def display_info(self):\n",
    "        return f\"Name: {self.name}, Age: {self.age}\""
   ]
  },
  {
   "cell_type": "code",
   "execution_count": 26,
   "metadata": {},
   "outputs": [],
   "source": [
    "class AiStudent(Student):\n",
    "    def __init__(self, name, age, specilization):\n",
    "        super().__init__(name, age)\n",
    "        self.specilization = specilization\n",
    "    def display_info(self):\n",
    "        return f\"{super().display_info()}, Specialization: {self.specilization}\""
   ]
  },
  {
   "cell_type": "code",
   "execution_count": 34,
   "metadata": {},
   "outputs": [],
   "source": [
    "class WebStudent(Student):\n",
    "    def __init__(self, name, age, experience):\n",
    "        super().__init__(name, age)\n",
    "        self.experience = experience\n",
    "    def display_info(self):\n",
    "        return f\"{super().display_info()}, Experinece: {self.experience}\""
   ]
  },
  {
   "cell_type": "code",
   "execution_count": 35,
   "metadata": {},
   "outputs": [],
   "source": [
    "shakeel = AiStudent(\"Shakeel\", 24, \"Computer Vision\")"
   ]
  },
  {
   "cell_type": "code",
   "execution_count": 36,
   "metadata": {},
   "outputs": [
    {
     "data": {
      "text/plain": [
       "'Name: Shakeel, Age: 24, Specializatin: Computer Vision'"
      ]
     },
     "execution_count": 36,
     "metadata": {},
     "output_type": "execute_result"
    }
   ],
   "source": [
    "shakeel.display_info()"
   ]
  },
  {
   "cell_type": "code",
   "execution_count": 37,
   "metadata": {},
   "outputs": [],
   "source": [
    "mary = WebStudent(\"Mary\", 25, \"5\")"
   ]
  },
  {
   "cell_type": "code",
   "execution_count": 38,
   "metadata": {},
   "outputs": [
    {
     "data": {
      "text/plain": [
       "'Name: Mary, Age: 25, Experinece: 5'"
      ]
     },
     "execution_count": 38,
     "metadata": {},
     "output_type": "execute_result"
    }
   ],
   "source": [
    "mary.display_info()"
   ]
  },
  {
   "cell_type": "markdown",
   "metadata": {},
   "source": [
    "## Task: Library System\n",
    "1. Define a parent class `Book` with attributes like `title`, `author`, `ISBN`, and a method `get_details()` to print details.\n",
    "2. Create child classes `FictionBook` and `NonFictionBook` with extra attributes (genre and subject, respectively).\n",
    "3. Override `get_details()` to include the new attributes.\n"
   ]
  },
  {
   "cell_type": "code",
   "execution_count": 39,
   "metadata": {},
   "outputs": [],
   "source": [
    "class Book:\n",
    "    def __init__(self, title, author, ISBN):\n",
    "        self.title = title\n",
    "        self.author = author\n",
    "        self.ISBN = ISBN\n",
    "\n",
    "    def get_details(self):\n",
    "        return f\"Title: {self.title}, Author: {self.author}, ISBN: {self.ISBN}\""
   ]
  },
  {
   "cell_type": "code",
   "execution_count": 40,
   "metadata": {},
   "outputs": [],
   "source": [
    "# Child Class: FictionBook\n",
    "class FictionBook(Book):\n",
    "    def __init__(self, title, author, ISBN, genre):\n",
    "        super().__init__(title, author, ISBN)\n",
    "        self.genre = genre\n",
    "\n",
    "    def get_details(self):\n",
    "        return f\"{super().get_details()}, Genre: {self.genre}\"\n",
    "\n",
    "# Child Class: NonFictionBook\n",
    "class NonFictionBook(Book):\n",
    "    def __init__(self, title, author, ISBN, subject):\n",
    "        super().__init__(title, author, ISBN)\n",
    "        self.subject = subject\n",
    "\n",
    "    def get_details(self):\n",
    "        return f\"{super().get_details()}, Subject: {self.subject}\""
   ]
  },
  {
   "cell_type": "code",
   "execution_count": 42,
   "metadata": {},
   "outputs": [
    {
     "name": "stdout",
     "output_type": "stream",
     "text": [
      "Title: The Conference of the Birds, Author: Farid ud-Din Attar, ISBN: 157-893214, Genre: Sufi Poetry\n",
      "Title: The Muqaddimah, Author: Ibn Khaldun, ISBN: 789-432156, Subject: History/Sociology\n"
     ]
    }
   ],
   "source": [
    "fiction = FictionBook(\"The Conference of the Birds\", \"Farid ud-Din Attar\", \"157-893214\", \"Sufi Poetry\")\n",
    "print(fiction.get_details())\n",
    "\n",
    "non_fiction = NonFictionBook(\"The Muqaddimah\", \"Ibn Khaldun\", \"789-432156\", \"History/Sociology\")\n",
    "print(non_fiction.get_details())"
   ]
  },
  {
   "cell_type": "markdown",
   "metadata": {},
   "source": [
    "## 2. Overriding Parent Methods and Using `super()`\n",
    "\n",
    "Overriding allows a child class to redefine methods from its parent class. The `super()` function allows calling the parent's method inside the overriding method for extended functionality.\n",
    "\n",
    "## Task: Bank System\n",
    "1. Create a parent class `Account` with attributes like `owner_name`, `balance`, and methods `deposit(amount)` and `withdraw(amount)`.\n",
    "2. Create child classes `SavingsAccount` and `CheckingAccount`. \n",
    "   - In `SavingsAccount`, enforce a minimum balance.\n",
    "   - In `CheckingAccount`, implement an overdraft limit.\n",
    "3. Override the `withdraw()` method to reflect these behaviors."
   ]
  },
  {
   "cell_type": "code",
   "execution_count": 43,
   "metadata": {},
   "outputs": [],
   "source": [
    "class Account:\n",
    "    def __init__(self, owner_name, balance):\n",
    "        self.owner_name = owner_name\n",
    "        self.balance = balance\n",
    "\n",
    "    def deposit(self, amount):\n",
    "        self.balance += amount\n",
    "        print(f\"Deposited {amount}. New balance is {self.balance}\")\n",
    "\n",
    "    def withdraw(self, amount):\n",
    "        if amount > self.balance:\n",
    "            print(\"Insufficient balance!\")\n",
    "        else:\n",
    "            self.balance -= amount\n",
    "            print(f\"Withdrew {amount}. New balance is {self.balance}\")"
   ]
  },
  {
   "cell_type": "code",
   "execution_count": 44,
   "metadata": {},
   "outputs": [],
   "source": [
    "# Child Class: SavingsAccount with Minimum Balance Requirement\n",
    "class SavingsAccount(Account):\n",
    "    def __init__(self, owner_name, balance, min_balance):\n",
    "        super().__init__(owner_name, balance)\n",
    "        self.min_balance = min_balance\n",
    "\n",
    "    def withdraw(self, amount):\n",
    "        if self.balance - amount < self.min_balance:\n",
    "            print(f\"Cannot withdraw {amount}. Minimum balance of {self.min_balance} must be maintained.\")\n",
    "        else:\n",
    "            super().withdraw(amount)\n",
    "\n",
    "# Child Class: CheckingAccount with Overdraft Limit\n",
    "class CheckingAccount(Account):\n",
    "    def __init__(self, owner_name, balance, overdraft_limit):\n",
    "        super().__init__(owner_name, balance)\n",
    "        self.overdraft_limit = overdraft_limit\n",
    "\n",
    "    def withdraw(self, amount):\n",
    "        if self.balance - amount < -self.overdraft_limit:\n",
    "            print(f\"Cannot withdraw {amount}. Overdraft limit of {self.overdraft_limit} exceeded.\")\n",
    "        else:\n",
    "            super().withdraw(amount)"
   ]
  },
  {
   "cell_type": "code",
   "execution_count": 46,
   "metadata": {},
   "outputs": [
    {
     "name": "stdout",
     "output_type": "stream",
     "text": [
      "Cannot withdraw 600. Minimum balance of 500 must be maintained.\n",
      "Withdrew 400. New balance is 600\n",
      "Insufficient balance!\n",
      "Withdrew 500. New balance is 500\n"
     ]
    }
   ],
   "source": [
    "savings = SavingsAccount(\"Alice\", 1000, 500)\n",
    "savings.withdraw(600)\n",
    "savings.withdraw(400)\n",
    "checking = CheckingAccount(\"Bob\", 1000, 300)\n",
    "checking.withdraw(1300)\n",
    "checking.withdraw(500)"
   ]
  },
  {
   "cell_type": "markdown",
   "metadata": {},
   "source": [
    "## 3. Hybrid Inheritance\n",
    "\n",
    "Hybrid inheritance is a combination of multiple inheritance patterns (e.g., multilevel, multiple, and single inheritance).\n",
    "\n",
    "## Task: Employee Management System\n",
    "1. Create a parent class `Employee` with attributes like `name` and `salary`, and methods like `get_details()`.\n",
    "2. Create two child classes:\n",
    "   - `Manager` inherits from `Employee` and adds `department`.\n",
    "   - `Engineer` inherits from `Employee` and adds `specialization`.\n",
    "3. Create a class `TeamLead` that inherits from both `Manager` and `Engineer` and overrides `get_details()` to include all the attributes."
   ]
  },
  {
   "cell_type": "code",
   "execution_count": 51,
   "metadata": {},
   "outputs": [
    {
     "name": "stdout",
     "output_type": "stream",
     "text": [
      "Name: John, Salary: 8000, Specialization: Software Development, Department: IT\n"
     ]
    }
   ],
   "source": [
    "class Employee:\n",
    "    def __init__(self, name, salary):\n",
    "        self.name = name\n",
    "        self.salary = salary\n",
    "\n",
    "    def get_details(self):\n",
    "        return f\"Name: {self.name}, Salary: {self.salary}\"\n",
    "\n",
    "# Child Class: Manager\n",
    "class Manager(Employee):\n",
    "    def __init__(self, name, salary, department):\n",
    "        super().__init__(name, salary)\n",
    "        self.department = department\n",
    "\n",
    "    def get_details(self):\n",
    "        return f\"{super().get_details()}, Department: {self.department}\"\n",
    "\n",
    "# Child Class: Engineer\n",
    "class Engineer(Employee):\n",
    "    def __init__(self, name, salary, specialization):\n",
    "        super().__init__(name, salary)\n",
    "        self.specialization = specialization\n",
    "\n",
    "    def get_details(self):\n",
    "        return f\"{super().get_details()}, Specialization: {self.specialization}\"\n",
    "\n",
    "# Class: TeamLead (Hybrid Inheritance)\n",
    "class TeamLead(Manager, Engineer):\n",
    "    def __init__(self, name, salary, department, specialization):\n",
    "        Employee.__init__(self, name, salary)\n",
    "        # Set attributes from both parent classes\n",
    "        self.department = department\n",
    "        self.specialization = specialization\n",
    "\n",
    "#     def get_details(self):\n",
    "#         return f\"{super().get_details()}\"\n",
    "\n",
    "lead = TeamLead(\"John\", 8000, \"IT\", \"Software Development\")\n",
    "print(lead.get_details())"
   ]
  },
  {
   "cell_type": "markdown",
   "metadata": {},
   "source": [
    "## 4. Another Example of Atm\n",
    "\n",
    "The `BankAccount` class serves as a parent class representing a bank account. It includes attributes like `account_number`, which uniquely identifies the bank account, and `balance`, which holds the current balance of the account. This example extends the functionality to include transaction history for better tracking of deposits and withdrawals.\n",
    "\n",
    "In the `ATM` class, we maintain the structure of the original ATM functionality while allowing users to view their transaction history securely after validating their PIN.\n"
   ]
  },
  {
   "cell_type": "markdown",
   "metadata": {},
   "source": [
    "## Parent Class: BankAccount"
   ]
  },
  {
   "cell_type": "code",
   "execution_count": 38,
   "metadata": {},
   "outputs": [],
   "source": [
    "class BankAccount:\n",
    "    def __init__(self, account_number, balance=0):\n",
    "        self.account_number = account_number\n",
    "        self.balance = balance\n",
    "\n",
    "    def deposit(self, amount):\n",
    "        if amount > 0:\n",
    "            self.balance += amount\n",
    "            print(f\"Deposited {amount}. New balance is {self.balance}.\")\n",
    "        else:\n",
    "            print(\"Invalid deposit amount.\")\n",
    "\n",
    "    def withdraw(self, amount):\n",
    "        if amount > 0 and amount <= self.balance:\n",
    "            self.balance -= amount\n",
    "            print(f\"Withdrew {amount}. New balance is {self.balance}.\")\n",
    "        else:\n",
    "            print(\"Invalid withdrawal amount or insufficient funds.\")\n",
    "\n",
    "    def check_balance(self):\n",
    "        print(f\"Current balance is {self.balance}.\")"
   ]
  },
  {
   "cell_type": "markdown",
   "metadata": {},
   "source": [
    "## Child Class: ATM"
   ]
  },
  {
   "cell_type": "code",
   "execution_count": 39,
   "metadata": {},
   "outputs": [],
   "source": [
    "class ATM(BankAccount):\n",
    "    def __init__(self, account_number, balance=0):\n",
    "        super().__init__(account_number, balance)\n",
    "        self.pin = ''\n",
    "\n",
    "    def set_pin(self, pin):\n",
    "        self.pin = pin\n",
    "        print(\"PIN set successfully.\")\n",
    "\n",
    "    def validate_pin(self, pin):\n",
    "        if self.pin == pin:\n",
    "            return True\n",
    "        else:\n",
    "            print(\"Invalid PIN.\")\n",
    "            return False\n",
    "\n",
    "    def atm_deposit(self, amount, pin):\n",
    "        if self.validate_pin(pin):\n",
    "            self.deposit(amount)\n",
    "\n",
    "    def atm_withdraw(self, amount, pin):\n",
    "        if self.validate_pin(pin):\n",
    "            self.withdraw(amount)\n",
    "\n",
    "    def atm_check_balance(self, pin):\n",
    "        if self.validate_pin(pin):\n",
    "            self.check_balance()"
   ]
  },
  {
   "cell_type": "markdown",
   "metadata": {},
   "source": [
    "## Create an instance of the ATM class"
   ]
  },
  {
   "cell_type": "code",
   "execution_count": 40,
   "metadata": {},
   "outputs": [],
   "source": [
    "my_account = ATM(account_number=\"123456789\", balance=5000)"
   ]
  },
  {
   "cell_type": "code",
   "execution_count": 41,
   "metadata": {},
   "outputs": [
    {
     "name": "stdout",
     "output_type": "stream",
     "text": [
      "PIN set successfully.\n"
     ]
    }
   ],
   "source": [
    "# Set the PIN for the account\n",
    "my_account.set_pin(\"2525\")"
   ]
  },
  {
   "cell_type": "code",
   "execution_count": 42,
   "metadata": {},
   "outputs": [
    {
     "name": "stdout",
     "output_type": "stream",
     "text": [
      "Deposited 500. New balance is 5500.\n",
      "Withdrew 200. New balance is 5300.\n",
      "Current balance is 5300.\n"
     ]
    }
   ],
   "source": [
    "# Perform ATM operations\n",
    "my_account.atm_deposit(500, \"2525\")\n",
    "my_account.atm_withdraw(200, \"2525\")\n",
    "my_account.atm_check_balance(\"2525\")"
   ]
  },
  {
   "cell_type": "code",
   "execution_count": 45,
   "metadata": {},
   "outputs": [
    {
     "name": "stdout",
     "output_type": "stream",
     "text": [
      "Withdrew 400. New balance is 4500.\n"
     ]
    }
   ],
   "source": [
    "# Attempt an operation with the wrong PIN\n",
    "my_account.atm_withdraw(400, \"2525\")"
   ]
  }
 ],
 "metadata": {
  "kernelspec": {
   "display_name": "base",
   "language": "python",
   "name": "python3"
  },
  "language_info": {
   "codemirror_mode": {
    "name": "ipython",
    "version": 3
   },
   "file_extension": ".py",
   "mimetype": "text/x-python",
   "name": "python",
   "nbconvert_exporter": "python",
   "pygments_lexer": "ipython3",
   "version": "3.11.5"
  }
 },
 "nbformat": 4,
 "nbformat_minor": 2
}
