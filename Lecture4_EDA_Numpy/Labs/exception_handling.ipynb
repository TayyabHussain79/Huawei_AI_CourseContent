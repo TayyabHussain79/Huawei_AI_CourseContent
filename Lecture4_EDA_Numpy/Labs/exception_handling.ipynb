{
 "cells": [
  {
   "cell_type": "markdown",
   "metadata": {},
   "source": [
    "# Lab Work: Error/Exception Handling in Python"
   ]
  },
  {
   "cell_type": "markdown",
   "metadata": {},
   "source": [
    "## Errors in Programming\n",
    "Errors in programming are mistakes or bugs that cause a program to produce incorrect or unexpected results, or to behave in unintended ways.\n",
    "\n",
    "__Errors can be:__\n",
    "1. Syntax errors\n",
    "2. Runtime errors\n",
    "3. Logical errors"
   ]
  },
  {
   "cell_type": "code",
   "execution_count": 4,
   "metadata": {},
   "outputs": [
    {
     "ename": "SyntaxError",
     "evalue": "incomplete input (2415031472.py, line 2)",
     "output_type": "error",
     "traceback": [
      "\u001b[1;36m  Cell \u001b[1;32mIn[4], line 2\u001b[1;36m\u001b[0m\n\u001b[1;33m    print(\"Hello, World!\"\u001b[0m\n\u001b[1;37m                         ^\u001b[0m\n\u001b[1;31mSyntaxError\u001b[0m\u001b[1;31m:\u001b[0m incomplete input\n"
     ]
    }
   ],
   "source": [
    "# Example of a syntax error\n",
    "print(\"Hello, World!\""
   ]
  },
  {
   "cell_type": "code",
   "execution_count": 6,
   "metadata": {},
   "outputs": [
    {
     "name": "stdout",
     "output_type": "stream",
     "text": [
      "Result of addition: 2\n"
     ]
    }
   ],
   "source": [
    "# Example of a logical error\n",
    "def add_numbers(a, b):\n",
    "    return a - b  # This should be a + b\n",
    "\n",
    "result = add_numbers(5, 3)\n",
    "print(\"Result of addition:\", result)"
   ]
  },
  {
   "cell_type": "code",
   "execution_count": 5,
   "metadata": {},
   "outputs": [
    {
     "ename": "ZeroDivisionError",
     "evalue": "division by zero",
     "output_type": "error",
     "traceback": [
      "\u001b[1;31m---------------------------------------------------------------------------\u001b[0m",
      "\u001b[1;31mZeroDivisionError\u001b[0m                         Traceback (most recent call last)",
      "Cell \u001b[1;32mIn[5], line 4\u001b[0m\n\u001b[0;32m      2\u001b[0m numerator \u001b[38;5;241m=\u001b[39m \u001b[38;5;241m10\u001b[39m\n\u001b[0;32m      3\u001b[0m denominator \u001b[38;5;241m=\u001b[39m \u001b[38;5;241m0\u001b[39m\n\u001b[1;32m----> 4\u001b[0m result \u001b[38;5;241m=\u001b[39m numerator \u001b[38;5;241m/\u001b[39m denominator\n",
      "\u001b[1;31mZeroDivisionError\u001b[0m: division by zero"
     ]
    }
   ],
   "source": [
    "# Example of a runtime error\n",
    "numerator = 10\n",
    "denominator = 0\n",
    "result = numerator / denominator"
   ]
  },
  {
   "cell_type": "markdown",
   "metadata": {},
   "source": [
    "## Exception Handling\n",
    "We write the code that can raise an exception inside the try block. If an exception is raised, the code inside the except block is executed.\n",
    "\n",
    "We typically handle the exceptions that are subclasses of the Exception class.\n",
    "- ArithmeticError\n",
    "- LookupError\n",
    "- ValueError\n",
    "- TypeError\n",
    "- FileNotFoundError\n",
    "- ImportError\n",
    "- and many more..."
   ]
  },
  {
   "cell_type": "code",
   "execution_count": 14,
   "metadata": {},
   "outputs": [
    {
     "name": "stdout",
     "output_type": "stream",
     "text": [
      "Error: Division by zero is not allowed.\n",
      "Hi\n"
     ]
    }
   ],
   "source": [
    "# ZeroDivisionError is raised when the second argument of a division or modulo operation is zero.\n",
    "# handling a ZeroDivisionError using try-except\n",
    "try:\n",
    "    numerator = 10\n",
    "    denominator = 0\n",
    "    result = numerator / denominator\n",
    "except ZeroDivisionError:\n",
    "    print(\"Error: Division by zero is not allowed.\")\n",
    "print(\"Hi\")"
   ]
  },
  {
   "cell_type": "code",
   "execution_count": 12,
   "metadata": {},
   "outputs": [
    {
     "name": "stdout",
     "output_type": "stream",
     "text": [
      "Error: Invalid input for int() function\n"
     ]
    }
   ],
   "source": [
    "# ValueError is raised when a function receives an argument of the right type but inappropriate value.\n",
    "# Handling a ValueError using try-except\n",
    "try:\n",
    "    number = int(\"abc\")\n",
    "except ValueError:\n",
    "    print(\"Error: Invalid input for int() function\")"
   ]
  },
  {
   "cell_type": "code",
   "execution_count": 15,
   "metadata": {},
   "outputs": [
    {
     "name": "stdout",
     "output_type": "stream",
     "text": [
      "Error: Invalid input for int() function\n"
     ]
    }
   ],
   "source": [
    "# Handling multiple exceptions using try-except\n",
    "try:\n",
    "    number = int(\"abc\")\n",
    "    result = 10 / 0\n",
    "except ValueError:\n",
    "    print(\"Error: Invalid input for int() function\")\n",
    "except ZeroDivisionError:\n",
    "    print(\"Error: Division by zero is not allowed.\")"
   ]
  },
  {
   "cell_type": "code",
   "execution_count": 16,
   "metadata": {},
   "outputs": [
    {
     "name": "stdout",
     "output_type": "stream",
     "text": [
      "Error: division by zero\n"
     ]
    }
   ],
   "source": [
    "# Example of handling multiple exceptions using a single except block\n",
    "try:\n",
    "    number = int(0)\n",
    "    result = 10 / 0\n",
    "except (ValueError, ZeroDivisionError) as e:\n",
    "    print(f\"Error: {e}\")"
   ]
  },
  {
   "cell_type": "code",
   "execution_count": 19,
   "metadata": {},
   "outputs": [
    {
     "name": "stdout",
     "output_type": "stream",
     "text": [
      "Error: Division by zero is not allowed.\n",
      "This block is always executed.\n"
     ]
    }
   ],
   "source": [
    "# Example of using try-except-else-finally\n",
    "try:\n",
    "    numerator = 10\n",
    "    denominator = 0\n",
    "    result = numerator / denominator\n",
    "except ZeroDivisionError:\n",
    "    print(\"Error: Division by zero is not allowed.\")\n",
    "else:\n",
    "    print(\"The division was successful. Result:\", result)\n",
    "finally:\n",
    "    print(\"This block is always executed.\")"
   ]
  },
  {
   "cell_type": "code",
   "execution_count": 10,
   "metadata": {},
   "outputs": [
    {
     "name": "stdout",
     "output_type": "stream",
     "text": [
      "Both operations were successful. Result: 5.0\n",
      "This block is always executed.\n"
     ]
    }
   ],
   "source": [
    "# Example of handling multiple exceptions with try-except-else-finally\n",
    "try:\n",
    "    number = int(\"10\")\n",
    "    result = 10 / 2\n",
    "except ValueError:\n",
    "    print(\"Error: Invalid literal for int() with base 10.\")\n",
    "except ZeroDivisionError:\n",
    "    print(\"Error: Division by zero is not allowed.\")\n",
    "else:\n",
    "    print(\"Both operations were successful. Result:\", result)\n",
    "finally:\n",
    "    print(\"This block is always executed.\")\n"
   ]
  },
  {
   "cell_type": "markdown",
   "metadata": {},
   "source": [
    "## Error Logging and its Components\n",
    "Logging is a way to track events that happen when some software runs. It is a way to record events that happen when some software runs. It is a way to record data to a file.\n",
    "\n",
    "Following are the components of logging:\n",
    "1. Logger\n",
    "2. Handler\n",
    "3. Log Level\n",
    "4. Log Formatter\n",
    "5. Log Record"
   ]
  },
  {
   "cell_type": "code",
   "execution_count": 20,
   "metadata": {},
   "outputs": [
    {
     "data": {
      "text/plain": [
       "<Logger example_logger (WARNING)>"
      ]
     },
     "execution_count": 20,
     "metadata": {},
     "output_type": "execute_result"
    }
   ],
   "source": [
    "import logging\n",
    "\n",
    "# 1. Logger: This is the main entry point for logging.\n",
    "# You can create multiple loggers with different names.\n",
    "logger = logging.getLogger('example_logger')\n",
    "logger"
   ]
  },
  {
   "cell_type": "code",
   "execution_count": 21,
   "metadata": {},
   "outputs": [
    {
     "data": {
      "text/plain": [
       "<FileHandler d:\\Courses\\HCCDA-AI\\Lecture04\\ex1.log (NOTSET)>"
      ]
     },
     "execution_count": 21,
     "metadata": {},
     "output_type": "execute_result"
    }
   ],
   "source": [
    "# 2. Handler: This sends the log records to the appropriate\n",
    "# destination, such as a file or the console.\n",
    "handler = logging.FileHandler('ex1.log')\n",
    "handler"
   ]
  },
  {
   "cell_type": "code",
   "execution_count": 22,
   "metadata": {},
   "outputs": [
    {
     "data": {
      "text/plain": [
       "<Logger example_logger (DEBUG)>"
      ]
     },
     "execution_count": 22,
     "metadata": {},
     "output_type": "execute_result"
    }
   ],
   "source": [
    "# 3. Log Level: Set the log level for the logger\n",
    "logger.setLevel(logging.DEBUG)\n",
    "logger"
   ]
  },
  {
   "cell_type": "code",
   "execution_count": 23,
   "metadata": {},
   "outputs": [
    {
     "data": {
      "text/plain": [
       "<logging.Formatter at 0x25153773950>"
      ]
     },
     "execution_count": 23,
     "metadata": {},
     "output_type": "execute_result"
    }
   ],
   "source": [
    "# 4. Formatter: This specifies the layout of the log messages.\n",
    "formatter = logging.Formatter('%(asctime)s - %(name)s - %(levelname)s - %(message)s')\n",
    "formatter"
   ]
  },
  {
   "cell_type": "code",
   "execution_count": 24,
   "metadata": {},
   "outputs": [
    {
     "data": {
      "text/plain": [
       "<Logger example_logger (DEBUG)>"
      ]
     },
     "execution_count": 24,
     "metadata": {},
     "output_type": "execute_result"
    }
   ],
   "source": [
    "# Add the handler and formatter to the logger\n",
    "handler.setFormatter(formatter)\n",
    "logger.addHandler(handler)\n",
    "logger"
   ]
  },
  {
   "cell_type": "code",
   "execution_count": 25,
   "metadata": {},
   "outputs": [],
   "source": [
    "# Example of using logger\n",
    "try:\n",
    "    result = 10 / 0\n",
    "except ZeroDivisionError as e:\n",
    "    logger.error(\"Error occurred: %s\", e)"
   ]
  },
  {
   "cell_type": "code",
   "execution_count": 26,
   "metadata": {},
   "outputs": [
    {
     "name": "stderr",
     "output_type": "stream",
     "text": [
      "2025-06-01 10:20:42,822 - ERROR - Error occurred: division by zero\n"
     ]
    }
   ],
   "source": [
    "import logging\n",
    "\n",
    "\n",
    "# Configure the logging using single call to basicConfig\n",
    "logging.basicConfig(\n",
    "    level=logging.DEBUG,\n",
    "    format=\"%(asctime)s - %(levelname)s - %(message)s\",\n",
    "    handlers=[ # can assign multiple handlers\n",
    "        logging.FileHandler(\"example.log\"), # log to a file\n",
    "        logging.StreamHandler() # log to console\n",
    "    ]\n",
    ")\n",
    "\n",
    "# Example of logging an error\n",
    "try:\n",
    "    result = 10 / 0\n",
    "except ZeroDivisionError as e:\n",
    "    logging.error(\"Error occurred: %s\", e)\n"
   ]
  },
  {
   "cell_type": "markdown",
   "metadata": {},
   "source": [
    "---"
   ]
  }
 ],
 "metadata": {
  "kernelspec": {
   "display_name": "base",
   "language": "python",
   "name": "python3"
  },
  "language_info": {
   "codemirror_mode": {
    "name": "ipython",
    "version": 3
   },
   "file_extension": ".py",
   "mimetype": "text/x-python",
   "name": "python",
   "nbconvert_exporter": "python",
   "pygments_lexer": "ipython3",
   "version": "3.11.5"
  }
 },
 "nbformat": 4,
 "nbformat_minor": 2
}
