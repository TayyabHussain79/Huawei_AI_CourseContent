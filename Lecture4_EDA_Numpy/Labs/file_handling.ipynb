{
 "cells": [
  {
   "cell_type": "markdown",
   "metadata": {},
   "source": [
    "# Lab Work: File Handling\n",
    "File handling is an essential part of any programming language. It allows:\n",
    "- Reading from and writing to files.\n",
    "- Data persistency by storing data in files.\n",
    "- Data exchange between different programs.\n",
    "- Various file formats like text, binary, CSV, JSON, etc.\n",
    "\n",
    "In Python, file handling is done using built-in functions such as `open()`, `read()`, `write()`, and `close()`. \n",
    "The `open()` function is used to open a file, and it returns a __file object__. The file object provides methods and attributes to interact with the file.\n"
   ]
  },
  {
   "cell_type": "markdown",
   "metadata": {},
   "source": [
    "## Example of working with a file:"
   ]
  },
  {
   "cell_type": "code",
   "execution_count": 1,
   "metadata": {},
   "outputs": [],
   "source": [
    "file = open('example.txt', 'w')  # Open a file in write mode\n",
    "file.write('Hello, world! My Name is Asad')      # Write to the file\n",
    "file.close()                     # Close the file"
   ]
  },
  {
   "cell_type": "markdown",
   "metadata": {},
   "source": [
    "# Opening and Closing Files\n",
    "To open a file, you can use the `open()` function, which takes two arguments: the file path and the mode in which the file should be opened.\\\n",
    "After performing the required operations on the file, it is essential to close the file using the `close()` method to free up system resources."
   ]
  },
  {
   "cell_type": "code",
   "execution_count": 2,
   "metadata": {},
   "outputs": [
    {
     "name": "stdout",
     "output_type": "stream",
     "text": [
      "Content of the file: ['Hello, world! My Name is Asad']\n"
     ]
    }
   ],
   "source": [
    "# Opening a file in read mode\n",
    "file = open('example.txt', 'r')\n",
    "content = file.readlines()\n",
    "print(\"Content of the file:\", content)\n",
    "file.close()  # Closing the file"
   ]
  },
  {
   "cell_type": "code",
   "execution_count": 5,
   "metadata": {},
   "outputs": [],
   "source": [
    "# Opening a file in binary mode\n",
    "file = open('example1.bin', 'wb')\n",
    "file.write(b'This is an example of opening and closing a file in binary mode.')\n",
    "file.close()"
   ]
  },
  {
   "cell_type": "markdown",
   "metadata": {},
   "source": [
    "# Types of File Modes in Python\n",
    "While opening a file using the `open()` function, you can specify the mode in which the file should be opened, which determines the operations that can be performed on the file.\n",
    "Some common file modes are:\n",
    "- `r` Read only: The file pointer is placed at the beginning of the file.\n",
    "- `w` Write only: It truncates the file to zero length if it exists, and creates a new file if it does not exist.\n",
    "- `a` Append: The file pointer is at the end of the file if the file exists. It creates a new file if it does not exist.\n",
    "- `r+` Read and Write: The file pointer is placed at the beginning of the file.\n",
    "- `w+` Write and Read: It truncates the file to zero length if it exists, and creates a new file if it does not exist.\n",
    "- `a+` Read and Append: The file pointer is at the end of the file if the file exists. It creates a new file if it does not exist.\n",
    "- `b` Binary mode: Used in combination with the above modes to open a file in binary mode."
   ]
  },
  {
   "cell_type": "code",
   "execution_count": 6,
   "metadata": {},
   "outputs": [
    {
     "name": "stdout",
     "output_type": "stream",
     "text": [
      "Read mode ('r'): Hello, world! My Name is Asad\n"
     ]
    }
   ],
   "source": [
    "# 'r' - Read only\n",
    "file = open('example.txt', 'r')\n",
    "content = file.read()\n",
    "file.close()\n",
    "print(\"Read mode ('r'):\", content)"
   ]
  },
  {
   "cell_type": "code",
   "execution_count": 7,
   "metadata": {},
   "outputs": [],
   "source": [
    "# 'w' - Write only\n",
    "file = open('example_write.txt', 'w')\n",
    "file.write('this is new data')\n",
    "file.close()"
   ]
  },
  {
   "cell_type": "code",
   "execution_count": 9,
   "metadata": {},
   "outputs": [],
   "source": [
    "# 'a' - Append mode.\n",
    "file = open('example.txt', 'a')\n",
    "file.write('\\n This is append mode.')\n",
    "file.close()"
   ]
  },
  {
   "cell_type": "code",
   "execution_count": 10,
   "metadata": {},
   "outputs": [
    {
     "name": "stdout",
     "output_type": "stream",
     "text": [
      "Read and write mode ('r+'): Hello, world! My Name is AsadThis is append mode.\n",
      "\n",
      " This is append mode.\n"
     ]
    }
   ],
   "source": [
    "# 'r+' - Read and Write\n",
    "file = open('example.txt', 'r+')\n",
    "content = file.read()\n",
    "file.write('This is read and write mode.')\n",
    "file.close()\n",
    "print(\"Read and write mode ('r+'):\", content)"
   ]
  },
  {
   "cell_type": "code",
   "execution_count": 11,
   "metadata": {},
   "outputs": [
    {
     "name": "stdout",
     "output_type": "stream",
     "text": [
      "Read and write mode ('w+'):  is read and write mode.\n"
     ]
    }
   ],
   "source": [
    "# 'w+' - Write and Read\n",
    "file = open(\"example.txt\", \"w+\")\n",
    "file.write(\"This is read and write mode.\")\n",
    "file.seek(4)\n",
    "content = file.read()\n",
    "file.close()\n",
    "print(\"Read and write mode ('w+'):\", content)"
   ]
  },
  {
   "cell_type": "code",
   "execution_count": 13,
   "metadata": {},
   "outputs": [
    {
     "name": "stdout",
     "output_type": "stream",
     "text": [
      "Read binary mode ('rb'): b'This is an example of opening and closing a file in binary mode.'\n"
     ]
    }
   ],
   "source": [
    "# 'rb' - Read binary mode.\n",
    "file = open('example1.bin', 'rb')\n",
    "content = file.read()\n",
    "#file.write('Is this rb mode')\n",
    "file.close()\n",
    "print(\"Read binary mode ('rb'):\", content)"
   ]
  },
  {
   "cell_type": "code",
   "execution_count": 14,
   "metadata": {},
   "outputs": [],
   "source": [
    "# 'wb' - Write binary mode.\n",
    "file = open('example.txt', 'wb')\n",
    "file.write(b'This is write binary mode.')\n",
    "file.close()"
   ]
  },
  {
   "cell_type": "code",
   "execution_count": 15,
   "metadata": {},
   "outputs": [],
   "source": [
    "# 'ab' - Append binary mode.\n",
    "file = open('example.txt', 'ab')\n",
    "file.write(b'This is append binary mode.\\n')\n",
    "file.close()"
   ]
  },
  {
   "cell_type": "markdown",
   "metadata": {},
   "source": [
    "# Reading Files\n",
    "You can read the contents of a file using the following methods provided by the file object:\n",
    "- The `read()` method reads the entire file content as a single string.\n",
    "- The `readline()` method reads a single line from the file.\n",
    "- The `readlines()` method reads all the lines of a file and returns a list of strings."
   ]
  },
  {
   "cell_type": "code",
   "execution_count": 7,
   "metadata": {},
   "outputs": [],
   "source": [
    "# Let's create sample file to read from\n",
    "file = open('sample.txt', 'w')\n",
    "file.write('Line 1\\nLine 2\\nLine 3\\nLine 4\\nLine 5')\n",
    "file.close()"
   ]
  },
  {
   "cell_type": "code",
   "execution_count": 8,
   "metadata": {},
   "outputs": [
    {
     "name": "stdout",
     "output_type": "stream",
     "text": [
      "Using read() method:\n",
      "Line 1\n",
      "Line 2\n",
      "Line 3\n",
      "Line 4\n",
      "Line 5\n"
     ]
    }
   ],
   "source": [
    "# Using read() method to read the entire content of the file\n",
    "file = open('sample.txt', 'r')\n",
    "content = file.read()\n",
    "file.close()\n",
    "\n",
    "print(f\"Using read() method:\\n{content}\")"
   ]
  },
  {
   "cell_type": "code",
   "execution_count": 9,
   "metadata": {},
   "outputs": [
    {
     "name": "stdout",
     "output_type": "stream",
     "text": [
      "Using readline(): Line 1\n",
      "\n"
     ]
    }
   ],
   "source": [
    "# Using readline() method to read one line at a time\n",
    "file = open('sample.txt', 'r')\n",
    "line = file.readline()\n",
    "print(f\"Using readline(): {line}\")\n",
    "file.close()"
   ]
  },
  {
   "cell_type": "code",
   "execution_count": 10,
   "metadata": {},
   "outputs": [
    {
     "name": "stdout",
     "output_type": "stream",
     "text": [
      "Line 1\n",
      "Line 2\n",
      "Line 3\n",
      "Line 4\n",
      "Line 5"
     ]
    }
   ],
   "source": [
    "# So we can use a while loop to read all the lines\n",
    "file = open('sample.txt', 'r')\n",
    "while True:\n",
    "    line = file.readline()\n",
    "    if not line:\n",
    "        break\n",
    "    print(line, end='')"
   ]
  },
  {
   "cell_type": "code",
   "execution_count": 11,
   "metadata": {},
   "outputs": [
    {
     "name": "stdout",
     "output_type": "stream",
     "text": [
      "Using readlines(): ['Line 1\\n', 'Line 2\\n', 'Line 3\\n', 'Line 4\\n', 'Line 5']\n"
     ]
    }
   ],
   "source": [
    "# Using readlines() method to read all lines into a list\n",
    "file = open('sample.txt', 'r')\n",
    "lines = file.readlines()\n",
    "print(f\"Using readlines(): {lines}\")\n"
   ]
  },
  {
   "cell_type": "code",
   "execution_count": 22,
   "metadata": {},
   "outputs": [
    {
     "name": "stdout",
     "output_type": "stream",
     "text": [
      "Line 1\n",
      "Line 2\n",
      "Line 3\n",
      "Line 4\n",
      "Line 5"
     ]
    }
   ],
   "source": [
    "# Accessing one line at a time\n",
    "for line in lines:\n",
    "    print(line, end='')  # end='' to avoid adding extra newlines\n",
    "file.close()"
   ]
  },
  {
   "cell_type": "markdown",
   "metadata": {},
   "source": [
    "# Writing to Files\n",
    "You can write data to a file using the following methods provided by the file object:\n",
    "- The `write()` method writes a string to the file.\n",
    "- The `writelines()` method writes a list of strings to the file."
   ]
  },
  {
   "cell_type": "code",
   "execution_count": 23,
   "metadata": {},
   "outputs": [],
   "source": [
    "# Using write() method to write a single string to a file\n",
    "file = open('example.txt', 'w')\n",
    "file.write('This is an example of writing to a file using write().\\n')\n",
    "file.close()"
   ]
  },
  {
   "cell_type": "code",
   "execution_count": 24,
   "metadata": {},
   "outputs": [],
   "source": [
    "# Using writelines() method to write multiple lines to a file\n",
    "#lines = ['Line 1\\n', 'Line 2\\n', 'Line 3\\n']\n",
    "file = open('writelines_example.txt', 'w')\n",
    "file.writelines(lines)\n",
    "file.close()"
   ]
  },
  {
   "cell_type": "markdown",
   "metadata": {},
   "source": [
    "# File Context Manager\n",
    "Python provides a file context manager using the `with` statement, which automatically closes the file when the block of code is exited. It ensures that the file is properly closed, even if an exception occurs."
   ]
  },
  {
   "cell_type": "code",
   "execution_count": 25,
   "metadata": {},
   "outputs": [],
   "source": [
    "# Using 'with' statement to open a file for various operations.\n",
    "# We don't need to close the file manually\n",
    "with open('context_manager_example.txt', 'w') as file:\n",
    "    file.write('This file is managed using a context manager.\\n')"
   ]
  },
  {
   "cell_type": "markdown",
   "metadata": {},
   "source": [
    "# Error Handling in File Operations\n",
    "Common exceptions can occur while working with files, such as:\n",
    "- `FileNotFoundError`: Raised when the file does not exist.\n",
    "- `PermissionError`: Raised when the user does not have the necessary permissions to access the file.\n",
    "- `IOError`: Raised when an input/output operation fails.\n",
    "\n",
    "It is essential to handle these exceptions using `try-except` blocks to prevent the program from crashing."
   ]
  },
  {
   "cell_type": "code",
   "execution_count": 29,
   "metadata": {},
   "outputs": [
    {
     "name": "stdout",
     "output_type": "stream",
     "text": [
      "Error: The file 'random.txt' was not found.\n"
     ]
    }
   ],
   "source": [
    "# Example of handling file not found error\n",
    "try:\n",
    "    file = open('random.txt', 'r')\n",
    "    content = file.read()\n",
    "    file.close()\n",
    "except FileNotFoundError:\n",
    "    print(\"Error: The file 'random.txt' was not found.\")"
   ]
  },
  {
   "cell_type": "code",
   "execution_count": 30,
   "metadata": {},
   "outputs": [
    {
     "name": "stdout",
     "output_type": "stream",
     "text": [
      "Error: The file 'example.txt' was not found.\n"
     ]
    }
   ],
   "source": [
    "# Example of handling multiple exceptions\n",
    "try:\n",
    "    file = open('random.txt', 'r')\n",
    "    content = file.read()\n",
    "    file.close()\n",
    "except FileNotFoundError:\n",
    "    print(\"Error: The file 'example.txt' was not found.\")\n",
    "except PermissionError:\n",
    "    print(\"Error: You do not have permission to read 'example.txt'.\")\n",
    "except Exception as e:\n",
    "    print(f\"Error: An unexpected error occurred. {e}\")\n"
   ]
  },
  {
   "cell_type": "code",
   "execution_count": 34,
   "metadata": {},
   "outputs": [
    {
     "name": "stdout",
     "output_type": "stream",
     "text": [
      "Error: An error occurred. [Errno 2] No such file or directory: 'random.txt'\n",
      "File has been closed.\n"
     ]
    }
   ],
   "source": [
    "# Example of using finally block to ensure file is closed\n",
    "try:\n",
    "    file = open('random.txt', 'r')\n",
    "    content = file.read()\n",
    "except Exception as e:\n",
    "    print(f\"Error: An error occurred. {e}\")\n",
    "finally:\n",
    "    file.close()\n",
    "    print(\"File has been closed.\")"
   ]
  },
  {
   "cell_type": "markdown",
   "metadata": {},
   "source": [
    "# Advanced File Handling Techniques\n",
    "Python provides additional techniques for advanced file handling like file pointer manipulation, handling large files, etc. The following file object methods can be used for advanced file handling:\n",
    "- `tell()`: Returns the current file pointer position.\n",
    "- `seek()`: Changes the file pointer position.\n",
    "- `truncate()`: Resizes the file to a specified size.\n",
    "\n",
    "Similarly, large files can be read in chunks to avoid memory issues by using the `read()` method with a specified size."
   ]
  },
  {
   "cell_type": "code",
   "execution_count": 3,
   "metadata": {},
   "outputs": [],
   "source": [
    "# Create a sample file to demonstrate seeking and truncating\n",
    "with open('advanced_file.txt', 'w') as file:\n",
    "    file.write('This is a sample file for advanced file handling techniques.\\n')\n",
    "    file.write('We will demonstrate seeking and truncating in this file.\\n')"
   ]
  },
  {
   "cell_type": "code",
   "execution_count": 4,
   "metadata": {},
   "outputs": [
    {
     "name": "stdout",
     "output_type": "stream",
     "text": [
      "Current position after seeking to 10th byte: 10\n",
      "Content from 10th byte onwards:\n",
      " sample file for advanced file handling techniques.\n",
      "We will demonstrate seeking and truncating in this file.\n",
      "\n"
     ]
    }
   ],
   "source": [
    "# Demonstrate file seeking\n",
    "with open('advanced_file.txt', 'r+') as file:\n",
    "    file.seek(10)  # Move the cursor to the 10th byte\n",
    "    print(\"Current position after seeking to 10th byte:\", file.tell())\n",
    "    content = file.read()\n",
    "    print(\"Content from 10th byte onwards:\\n\", content)\n"
   ]
  },
  {
   "cell_type": "code",
   "execution_count": 33,
   "metadata": {},
   "outputs": [
    {
     "name": "stdout",
     "output_type": "stream",
     "text": [
      "Content after truncating to 50 bytes:\n",
      " This is a sample file for advanced file handling t\n"
     ]
    }
   ],
   "source": [
    "# Demonstrate file truncating\n",
    "with open('advanced_file.txt', 'r+') as file:\n",
    "    file.truncate(50)  # Truncate the file to 50 bytes\n",
    "    file.seek(0)  # Move the cursor to the beginning of the file\n",
    "    content = file.read()\n",
    "    print(\"Content after truncating to 50 bytes:\\n\", content)"
   ]
  },
  {
   "cell_type": "code",
   "execution_count": 34,
   "metadata": {},
   "outputs": [
    {
     "name": "stdout",
     "output_type": "stream",
     "text": [
      "Final content of advanced_file.txt:\n",
      " This is a sample file for advanced file handling t\n"
     ]
    }
   ],
   "source": [
    "# Verifying the final content of the file\n",
    "with open('advanced_file.txt', 'r') as file:\n",
    "    content = file.read()\n",
    "    print(\"Final content of advanced_file.txt:\\n\", content)"
   ]
  },
  {
   "cell_type": "code",
   "execution_count": null,
   "metadata": {},
   "outputs": [
    {
     "name": "stdout",
     "output_type": "stream",
     "text": [
      "This is a sample file for advanced file handling techniques.\n",
      "We will demonstrate seeking and truncating in this file.\n"
     ]
    }
   ],
   "source": [
    "file_path = \"advanced_file.txt\"\n",
    "chunk_size= 1 # reads one character at a time\n",
    "with open(file_path, 'r') as file:\n",
    "    while True:\n",
    "        chunk = file.read(chunk_size)\n",
    "        if not chunk:\n",
    "            break\n",
    "        print(chunk, end='')"
   ]
  },
  {
   "cell_type": "markdown",
   "metadata": {},
   "source": [
    "# Working with CSV Files\n",
    "CSV (Comma Separated Values) files are commonly used to store tabular data. Python provides the `csv` module to read and write CSV files. `csv` provides:\n",
    "- `csv.reader()`: Reads data from a CSV file.\n",
    "- `csv.writer()`: Writes data to a CSV file.\n",
    "- `csv.DictReader()`: Reads data from a CSV file as a dictionary.\n",
    "- `csv.DictWriter()`: Writes data to a CSV file as a dictionary."
   ]
  },
  {
   "cell_type": "code",
   "execution_count": null,
   "metadata": {},
   "outputs": [],
   "source": [
    "import csv\n",
    "\n",
    "# Writing to a CSV file from lists using csv.writer\n",
    "with open('example.csv', 'w', newline='') as csvfile:\n",
    "    csvwriter = csv.writer(csvfile)\n",
    "    csvwriter.writerow(['Name', 'Age', 'City'])\n",
    "    csvwriter.writerow(['Alice', 30, 'New York'])\n",
    "    csvwriter.writerow(['Bob', 25, 'Los Angeles'])\n",
    "    csvwriter.writerow(['Charlie', 35, 'Chicago'])"
   ]
  },
  {
   "cell_type": "code",
   "execution_count": null,
   "metadata": {},
   "outputs": [
    {
     "name": "stdout",
     "output_type": "stream",
     "text": [
      "['Name', 'Age', 'City']\n",
      "['Alice', '30', 'New York']\n",
      "['Bob', '25', 'Los Angeles']\n",
      "['Charlie', '35', 'Chicago']\n"
     ]
    }
   ],
   "source": [
    "import csv\n",
    "\n",
    "# Reading rows of a CSV file as \n",
    "# lists using csv.reader\n",
    "with open('example.csv', 'r') as csvfile:\n",
    "    csvreader = csv.reader(csvfile)\n",
    "    for row in csvreader:\n",
    "        print(row)"
   ]
  },
  {
   "cell_type": "code",
   "execution_count": null,
   "metadata": {},
   "outputs": [],
   "source": [
    "# Writing to a CSV file from dictionaries using DictWriter\n",
    "with open('example_dict.csv', 'w', newline='') as csvfile:\n",
    "    fieldnames = ['Name', 'Age', 'City']\n",
    "    csvwriter = csv.DictWriter(csvfile, fieldnames=fieldnames)\n",
    "    csvwriter.writeheader() # Write the header\n",
    "    csvwriter.writerow({'Name': 'Alice', 'Age': 30, 'City': 'New York'})\n",
    "    csvwriter.writerow({'Name': 'Bob', 'Age': 25, 'City': 'Los Angeles'})\n",
    "    csvwriter.writerow({'Name': 'Charlie', 'Age': 35, 'City': 'Chicago'})"
   ]
  },
  {
   "cell_type": "code",
   "execution_count": 47,
   "metadata": {},
   "outputs": [
    {
     "name": "stdout",
     "output_type": "stream",
     "text": [
      "{'Name': 'Alice', 'Age': '30', 'City': 'New York'}\n",
      "{'Name': 'Bob', 'Age': '25', 'City': 'Los Angeles'}\n",
      "{'Name': 'Charlie', 'Age': '35', 'City': 'Chicago'}\n"
     ]
    }
   ],
   "source": [
    "# Reading rows of a CSV file as dictionaries using DictReader\n",
    "with open('example_dict.csv', 'r') as csvfile:\n",
    "    csvreader = csv.DictReader(csvfile)\n",
    "    for row in csvreader:\n",
    "        print(row)"
   ]
  },
  {
   "cell_type": "markdown",
   "metadata": {},
   "source": [
    "# Working with JSON Files\n",
    "JSON (JavaScript Object Notation) is a lightweight data interchange format. Python provides the `json` module to work with JSON files. `json` provides:\n",
    "- `json.load()`: Reads JSON data from a file.\n",
    "- `json.loads()`: Reads JSON data from a string.\n",
    "- `json.dump()`: Writes JSON data to a file.\n",
    "- `json.dumps()`: Writes JSON data to a string.\n"
   ]
  },
  {
   "cell_type": "code",
   "execution_count": 48,
   "metadata": {},
   "outputs": [],
   "source": [
    "import json\n",
    "\n",
    "\n",
    "# Writing to a JSON file\n",
    "data = {\n",
    "    \"name\": \"John\",\n",
    "    \"age\": 30,\n",
    "    \"city\": \"New York\",\n",
    "    \"is_student\": False,\n",
    "    \"courses\": [\"Math\", \"Science\", \"History\"]\n",
    "}\n",
    "\n",
    "with open('example.json', 'w') as json_file:\n",
    "    # json.dump() writes to a file\n",
    "    json.dump(data, json_file, indent=4)\n"
   ]
  },
  {
   "cell_type": "code",
   "execution_count": null,
   "metadata": {},
   "outputs": [],
   "source": [
    "import json\n",
    "\n",
    "# Reading from a JSON file\n",
    "with open('example.json', 'r') as json_file:\n",
    "    # json.load() reads from a file\n",
    "    data = json.load(json_file)\n",
    "    print(\"Content of example.json:\\n\", data)"
   ]
  },
  {
   "cell_type": "code",
   "execution_count": 49,
   "metadata": {},
   "outputs": [],
   "source": [
    "# Updating a JSON file\n",
    "with open('example.json', 'r+') as json_file:\n",
    "    data = json.load(json_file)\n",
    "    data[\"age\"] = 31  # Update age\n",
    "    json_file.seek(0)  # Move the cursor to the beginning of the file\n",
    "    json.dump(data, json_file, indent=4)\n",
    "    json_file.truncate()  # Truncate the file to the current size"
   ]
  },
  {
   "cell_type": "code",
   "execution_count": 50,
   "metadata": {},
   "outputs": [
    {
     "name": "stdout",
     "output_type": "stream",
     "text": [
      "Updated content of example.json:\n",
      " {'name': 'John', 'age': 31, 'city': 'New York', 'is_student': False, 'courses': ['Math', 'Science', 'History']}\n"
     ]
    }
   ],
   "source": [
    "# Verifying the updated content of the JSON file\n",
    "with open('example.json', 'r') as json_file:\n",
    "    data = json.load(json_file)\n",
    "    print(\"Updated content of example.json:\\n\", data)"
   ]
  },
  {
   "cell_type": "markdown",
   "metadata": {},
   "source": [
    "# File and Directory Management\n",
    "Python provides the `os` module to interact with the operating system. You can perform various file and directory operations using functions like `os.mkdir()`, `os.rmdir()`, `os.rename()`, etc.\\\n",
    "The `shutil` module for high-level file operations like copying, moving, and deleting files."
   ]
  },
  {
   "cell_type": "code",
   "execution_count": 51,
   "metadata": {},
   "outputs": [
    {
     "name": "stdout",
     "output_type": "stream",
     "text": [
      "Directory 'new_directory' created\n"
     ]
    }
   ],
   "source": [
    "import os\n",
    "import shutil\n",
    "\n",
    "\n",
    "# Create a new directory\n",
    "os.mkdir('new_directory')\n",
    "print(\"Directory 'new_directory' created\")"
   ]
  },
  {
   "cell_type": "code",
   "execution_count": 52,
   "metadata": {},
   "outputs": [
    {
     "name": "stdout",
     "output_type": "stream",
     "text": [
      "Current working directory: d:\\Artificial_Intelligence_Course\\week03\\Lecture10\n"
     ]
    }
   ],
   "source": [
    "# Print the current working directory\n",
    "print(\"Current working directory:\", os.getcwd())"
   ]
  },
  {
   "cell_type": "code",
   "execution_count": 53,
   "metadata": {},
   "outputs": [
    {
     "name": "stdout",
     "output_type": "stream",
     "text": [
      "Contents of the current directory: ['advanced_file.txt', 'context_manager_example.txt', 'example.csv', 'example.json', 'example.txt', 'example1.bin', 'example1.txt', 'example_dict.csv', 'example_write.txt', 'Lab09.ipynb', 'Lec 09 - File Handling.pdf', 'Lec 09 - File Handling.pptx', 'new_directory', 'sample.txt', 'writelines_example.txt']\n"
     ]
    }
   ],
   "source": [
    "# List directories and files in the current directory\n",
    "print(\"Contents of the current directory:\", os.listdir('.'))\n"
   ]
  },
  {
   "cell_type": "code",
   "execution_count": 54,
   "metadata": {},
   "outputs": [
    {
     "name": "stdout",
     "output_type": "stream",
     "text": [
      "Directory renamed to 'renamed_directory'\n"
     ]
    }
   ],
   "source": [
    "# Rename the directory\n",
    "os.rename('new_directory', 'renamed_directory')\n",
    "print(\"Directory renamed to 'renamed_directory'\")"
   ]
  },
  {
   "cell_type": "code",
   "execution_count": 55,
   "metadata": {},
   "outputs": [],
   "source": [
    "# Create a new file in the renamed directory\n",
    "with open('renamed_directory/new_file.txt', 'w') as file:\n",
    "    file.write('This is a new file in the renamed directory.')"
   ]
  },
  {
   "cell_type": "code",
   "execution_count": null,
   "metadata": {},
   "outputs": [
    {
     "name": "stdout",
     "output_type": "stream",
     "text": [
      "File moved to the current directory\n"
     ]
    }
   ],
   "source": [
    "# Move the file to the current directory\n",
    "shutil.move('renamed_directory/new_file.txt', 'new_file_moved.txt')\n",
    "print(\"File moved to the current directory\")"
   ]
  },
  {
   "cell_type": "code",
   "execution_count": 57,
   "metadata": {},
   "outputs": [
    {
     "name": "stdout",
     "output_type": "stream",
     "text": [
      "File copied back to the renamed directory\n"
     ]
    }
   ],
   "source": [
    "# Copy the file back to the renamed directory\n",
    "shutil.copy('new_file_moved.txt', 'renamed_directory/new_file_copied.txt')\n",
    "print(\"File copied back to the renamed directory\")\n"
   ]
  },
  {
   "cell_type": "code",
   "execution_count": null,
   "metadata": {},
   "outputs": [
    {
     "name": "stdout",
     "output_type": "stream",
     "text": [
      "File 'new_file_moved.txt' removed from the current directory\n"
     ]
    }
   ],
   "source": [
    "# Remove the file from the current directory\n",
    "os.remove('new_file_moved.txt')\n",
    "print(\"File 'new_file_moved.txt' removed from the current directory\")"
   ]
  },
  {
   "cell_type": "code",
   "execution_count": 59,
   "metadata": {},
   "outputs": [
    {
     "name": "stdout",
     "output_type": "stream",
     "text": [
      "Directory 'renamed_directory' and its contents removed\n"
     ]
    }
   ],
   "source": [
    "# Remove the directory and its contents\n",
    "shutil.rmtree('renamed_directory')\n",
    "print(\"Directory 'renamed_directory' and its contents removed\")"
   ]
  },
  {
   "cell_type": "markdown",
   "metadata": {},
   "source": [
    "# Real World Examples\n",
    "File handling is used in various real-world applications like:\n",
    "- Logging data to files.\n",
    "- Reading and writing configuration files.\n",
    "- Storing user preferences.\n",
    "- Processing large datasets.\n",
    "- etc.\n"
   ]
  },
  {
   "cell_type": "markdown",
   "metadata": {},
   "source": [
    "### Example 1: Log File Management\n",
    "### This example demonstrates how to create, write, and read a log file."
   ]
  },
  {
   "cell_type": "code",
   "execution_count": 1,
   "metadata": {},
   "outputs": [
    {
     "name": "stdout",
     "output_type": "stream",
     "text": [
      "Log Entries:\n",
      "[2025-05-31 06:41:42] Application started\n",
      "[2025-05-31 06:41:42] An error occurred\n",
      "[2025-05-31 06:41:42] Application stopped\n"
     ]
    }
   ],
   "source": [
    "import os\n",
    "from datetime import datetime\n",
    "\n",
    "\n",
    "# Function to write a log entry\n",
    "def write_log(log_file, message):\n",
    "    with open(log_file, 'a') as file:\n",
    "        timestamp = datetime.now().strftime('%Y-%m-%d %H:%M:%S')\n",
    "        file.write(f'[{timestamp}] {message}\\n')\n",
    "\n",
    "# Function to read log entries\n",
    "def read_log(log_file):\n",
    "    with open(log_file, 'r') as file:\n",
    "        return file.readlines()\n",
    "\n",
    "# Create a log file and write some log entries\n",
    "log_file = 'application.log'\n",
    "write_log(log_file, 'Application started')\n",
    "write_log(log_file, 'An error occurred')\n",
    "write_log(log_file, 'Application stopped')\n",
    "\n",
    "# Read and print log entries\n",
    "log_entries = read_log(log_file)\n",
    "print(\"Log Entries:\")\n",
    "for entry in log_entries:\n",
    "    print(entry, end='')"
   ]
  },
  {
   "cell_type": "markdown",
   "metadata": {},
   "source": [
    "### Example 2: Configuration File Management\n",
    "### This example demonstrates how to create, write, and read a configuration file in JSON format."
   ]
  },
  {
   "cell_type": "code",
   "execution_count": 61,
   "metadata": {},
   "outputs": [
    {
     "name": "stdout",
     "output_type": "stream",
     "text": [
      "\n",
      "Configuration Data:\n",
      "{'app_name': 'MyApp', 'version': '1.0.0', 'settings': {'theme': 'dark', 'language': 'en'}}\n"
     ]
    }
   ],
   "source": [
    "import json\n",
    "\n",
    "\n",
    "# Function to write configuration to a file\n",
    "def write_config(config_file, config_data):\n",
    "    with open(config_file, 'w') as file:\n",
    "        json.dump(config_data, file, indent=4)\n",
    "\n",
    "# Function to read configuration from a file\n",
    "def read_config(config_file):\n",
    "    with open(config_file, 'r') as file:\n",
    "        return json.load(file)\n",
    "\n",
    "# Create a configuration file and write some configuration data\n",
    "config_file = 'config.json'\n",
    "config_data = {\n",
    "    'app_name': 'MyApp',\n",
    "    'version': '1.0.0',\n",
    "    'settings': {\n",
    "        'theme': 'dark',\n",
    "        'language': 'en'\n",
    "    }\n",
    "}\n",
    "write_config(config_file, config_data)\n",
    "\n",
    "# Read and print configuration data\n",
    "config = read_config(config_file)\n",
    "print(\"\\nConfiguration Data:\")\n",
    "print(config)"
   ]
  },
  {
   "cell_type": "markdown",
   "metadata": {},
   "source": [
    "### Example 3: User Data Management\n",
    "### This example demonstrates how to create, write, and read user data in CSV format."
   ]
  },
  {
   "cell_type": "code",
   "execution_count": 1,
   "metadata": {},
   "outputs": [
    {
     "name": "stdout",
     "output_type": "stream",
     "text": [
      "\n",
      "User Data:\n",
      "['Username', 'Email', 'Age']\n",
      "['john_doe', 'john@example.com', '28']\n",
      "['jane_doe', 'jane@example.com', '25']\n",
      "['alice', 'alice@example.com', '30']\n"
     ]
    }
   ],
   "source": [
    "import csv\n",
    "\n",
    "# Function to write user data to a CSV file\n",
    "def write_user_data(csv_file, user_data):\n",
    "    with open(csv_file, 'w', newline='') as file:\n",
    "        writer = csv.writer(file)\n",
    "        writer.writerow(['Username', 'Email', 'Age'])\n",
    "        writer.writerows(user_data)\n",
    "\n",
    "# Function to read user data from a CSV file\n",
    "def read_user_data(csv_file):\n",
    "    with open(csv_file, 'r') as file:\n",
    "        reader = csv.reader(file)\n",
    "        return list(reader)\n",
    "\n",
    "# Create a CSV file and write some user data\n",
    "csv_file = 'users.csv'\n",
    "user_data = [\n",
    "    ['john_doe', 'john@example.com', 28],\n",
    "    ['jane_doe', 'jane@example.com', 25],\n",
    "    ['alice', 'alice@example.com', 30]\n",
    "]\n",
    "write_user_data(csv_file, user_data)\n",
    "\n",
    "# Read and print user data\n",
    "users = read_user_data(csv_file)\n",
    "print(\"\\nUser Data:\")\n",
    "for user in users:\n",
    "    print(user)"
   ]
  },
  {
   "cell_type": "markdown",
   "metadata": {},
   "source": [
    "---\n",
    "Thank You"
   ]
  }
 ],
 "metadata": {
  "kernelspec": {
   "display_name": "base",
   "language": "python",
   "name": "python3"
  },
  "language_info": {
   "codemirror_mode": {
    "name": "ipython",
    "version": 3
   },
   "file_extension": ".py",
   "mimetype": "text/x-python",
   "name": "python",
   "nbconvert_exporter": "python",
   "pygments_lexer": "ipython3",
   "version": "3.11.5"
  }
 },
 "nbformat": 4,
 "nbformat_minor": 2
}
