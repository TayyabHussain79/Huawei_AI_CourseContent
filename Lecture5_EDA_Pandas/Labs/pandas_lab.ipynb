{
 "cells": [
  {
   "cell_type": "markdown",
   "id": "1bc89c68",
   "metadata": {},
   "source": [
    "## __Lab Work__\n",
    "\n",
    "### Data Manipulation with Pandas & NumPy"
   ]
  },
  {
   "cell_type": "code",
   "execution_count": null,
   "id": "be01fb42",
   "metadata": {},
   "outputs": [
    {
     "ename": "",
     "evalue": "",
     "output_type": "error",
     "traceback": [
      "\u001b[1;31mThe kernel failed to start as the Python Environment 'Python' is no longer available. Consider selecting another kernel or refreshing the list of Python Environments."
     ]
    }
   ],
   "source": [
    "import numpy as np\n",
    "import pandas as pd"
   ]
  },
  {
   "cell_type": "markdown",
   "id": "339613db",
   "metadata": {},
   "source": [
    "### 1. Creating a Simple DataFrame"
   ]
  },
  {
   "cell_type": "code",
   "execution_count": 10,
   "id": "a2abcbb9",
   "metadata": {},
   "outputs": [],
   "source": [
    "dict1 = {\n",
    "    \"name\": ['khan', 'ali', 'ahmad', 'akram'],\n",
    "    \"marks\": [92, 54, 56, 75],\n",
    "    \"city\": ['mardan', 'peshawar', 'islamabad', 'sialkot']\n",
    "}"
   ]
  },
  {
   "cell_type": "code",
   "execution_count": 11,
   "id": "546b9a84",
   "metadata": {},
   "outputs": [],
   "source": [
    "# Creating a DataFrame from the dictionary\n",
    "df = pd.DataFrame(dict1)"
   ]
  },
  {
   "cell_type": "code",
   "execution_count": 12,
   "id": "b27a2d0e",
   "metadata": {
    "scrolled": false
   },
   "outputs": [
    {
     "data": {
      "text/html": [
       "<div>\n",
       "<style scoped>\n",
       "    .dataframe tbody tr th:only-of-type {\n",
       "        vertical-align: middle;\n",
       "    }\n",
       "\n",
       "    .dataframe tbody tr th {\n",
       "        vertical-align: top;\n",
       "    }\n",
       "\n",
       "    .dataframe thead th {\n",
       "        text-align: right;\n",
       "    }\n",
       "</style>\n",
       "<table border=\"1\" class=\"dataframe\">\n",
       "  <thead>\n",
       "    <tr style=\"text-align: right;\">\n",
       "      <th></th>\n",
       "      <th>name</th>\n",
       "      <th>marks</th>\n",
       "      <th>city</th>\n",
       "    </tr>\n",
       "  </thead>\n",
       "  <tbody>\n",
       "    <tr>\n",
       "      <th>0</th>\n",
       "      <td>khan</td>\n",
       "      <td>92</td>\n",
       "      <td>mardan</td>\n",
       "    </tr>\n",
       "    <tr>\n",
       "      <th>1</th>\n",
       "      <td>ali</td>\n",
       "      <td>54</td>\n",
       "      <td>peshawar</td>\n",
       "    </tr>\n",
       "    <tr>\n",
       "      <th>2</th>\n",
       "      <td>ahmad</td>\n",
       "      <td>56</td>\n",
       "      <td>islamabad</td>\n",
       "    </tr>\n",
       "    <tr>\n",
       "      <th>3</th>\n",
       "      <td>akram</td>\n",
       "      <td>75</td>\n",
       "      <td>sialkot</td>\n",
       "    </tr>\n",
       "  </tbody>\n",
       "</table>\n",
       "</div>"
      ],
      "text/plain": [
       "    name  marks       city\n",
       "0   khan     92     mardan\n",
       "1    ali     54   peshawar\n",
       "2  ahmad     56  islamabad\n",
       "3  akram     75    sialkot"
      ]
     },
     "execution_count": 12,
     "metadata": {},
     "output_type": "execute_result"
    }
   ],
   "source": [
    "df"
   ]
  },
  {
   "cell_type": "markdown",
   "id": "c2e493ad",
   "metadata": {},
   "source": [
    "### 2. Reading and Writing Data"
   ]
  },
  {
   "cell_type": "code",
   "execution_count": null,
   "id": "a23c4b18",
   "metadata": {},
   "outputs": [],
   "source": [
    "# Writing to CSV and JSON\n",
    "df.to_csv('students.csv')"
   ]
  },
  {
   "cell_type": "code",
   "execution_count": 15,
   "id": "d8542f35",
   "metadata": {},
   "outputs": [],
   "source": [
    "df.to_json('students.json')"
   ]
  },
  {
   "cell_type": "code",
   "execution_count": 16,
   "id": "db21a7e2",
   "metadata": {},
   "outputs": [],
   "source": [
    "# Reading the files\n",
    "csv_df = pd.read_csv('students.csv')"
   ]
  },
  {
   "cell_type": "code",
   "execution_count": 18,
   "id": "6aaa3262",
   "metadata": {},
   "outputs": [],
   "source": [
    "json_df = pd.read_json('students.json')"
   ]
  },
  {
   "cell_type": "markdown",
   "id": "7cdf52b5",
   "metadata": {},
   "source": [
    "### 3. Exploring the Data"
   ]
  },
  {
   "cell_type": "code",
   "execution_count": null,
   "id": "a54a2001",
   "metadata": {},
   "outputs": [
    {
     "data": {
      "text/html": [
       "<div>\n",
       "<style scoped>\n",
       "    .dataframe tbody tr th:only-of-type {\n",
       "        vertical-align: middle;\n",
       "    }\n",
       "\n",
       "    .dataframe tbody tr th {\n",
       "        vertical-align: top;\n",
       "    }\n",
       "\n",
       "    .dataframe thead th {\n",
       "        text-align: right;\n",
       "    }\n",
       "</style>\n",
       "<table border=\"1\" class=\"dataframe\">\n",
       "  <thead>\n",
       "    <tr style=\"text-align: right;\">\n",
       "      <th></th>\n",
       "      <th>name</th>\n",
       "      <th>marks</th>\n",
       "      <th>city</th>\n",
       "    </tr>\n",
       "  </thead>\n",
       "  <tbody>\n",
       "    <tr>\n",
       "      <th>0</th>\n",
       "      <td>khan</td>\n",
       "      <td>92</td>\n",
       "      <td>mardan</td>\n",
       "    </tr>\n",
       "    <tr>\n",
       "      <th>1</th>\n",
       "      <td>ali</td>\n",
       "      <td>54</td>\n",
       "      <td>peshawar</td>\n",
       "    </tr>\n",
       "  </tbody>\n",
       "</table>\n",
       "</div>"
      ],
      "text/plain": [
       "   name  marks      city\n",
       "0  khan     92    mardan\n",
       "1   ali     54  peshawar"
      ]
     },
     "execution_count": 20,
     "metadata": {},
     "output_type": "execute_result"
    }
   ],
   "source": [
    "df.head(2)"
   ]
  },
  {
   "cell_type": "code",
   "execution_count": 11,
   "id": "2db0a1fc",
   "metadata": {},
   "outputs": [
    {
     "data": {
      "text/html": [
       "<div>\n",
       "<style scoped>\n",
       "    .dataframe tbody tr th:only-of-type {\n",
       "        vertical-align: middle;\n",
       "    }\n",
       "\n",
       "    .dataframe tbody tr th {\n",
       "        vertical-align: top;\n",
       "    }\n",
       "\n",
       "    .dataframe thead th {\n",
       "        text-align: right;\n",
       "    }\n",
       "</style>\n",
       "<table border=\"1\" class=\"dataframe\">\n",
       "  <thead>\n",
       "    <tr style=\"text-align: right;\">\n",
       "      <th></th>\n",
       "      <th>marks</th>\n",
       "    </tr>\n",
       "  </thead>\n",
       "  <tbody>\n",
       "    <tr>\n",
       "      <th>count</th>\n",
       "      <td>4.000000</td>\n",
       "    </tr>\n",
       "    <tr>\n",
       "      <th>mean</th>\n",
       "      <td>69.250000</td>\n",
       "    </tr>\n",
       "    <tr>\n",
       "      <th>std</th>\n",
       "      <td>17.876894</td>\n",
       "    </tr>\n",
       "    <tr>\n",
       "      <th>min</th>\n",
       "      <td>54.000000</td>\n",
       "    </tr>\n",
       "    <tr>\n",
       "      <th>25%</th>\n",
       "      <td>55.500000</td>\n",
       "    </tr>\n",
       "    <tr>\n",
       "      <th>50%</th>\n",
       "      <td>65.500000</td>\n",
       "    </tr>\n",
       "    <tr>\n",
       "      <th>75%</th>\n",
       "      <td>79.250000</td>\n",
       "    </tr>\n",
       "    <tr>\n",
       "      <th>max</th>\n",
       "      <td>92.000000</td>\n",
       "    </tr>\n",
       "  </tbody>\n",
       "</table>\n",
       "</div>"
      ],
      "text/plain": [
       "           marks\n",
       "count   4.000000\n",
       "mean   69.250000\n",
       "std    17.876894\n",
       "min    54.000000\n",
       "25%    55.500000\n",
       "50%    65.500000\n",
       "75%    79.250000\n",
       "max    92.000000"
      ]
     },
     "execution_count": 11,
     "metadata": {},
     "output_type": "execute_result"
    }
   ],
   "source": [
    "# Summary statistics\n",
    "df.describe()"
   ]
  },
  {
   "cell_type": "code",
   "execution_count": 21,
   "id": "4dece4dc",
   "metadata": {},
   "outputs": [
    {
     "name": "stdout",
     "output_type": "stream",
     "text": [
      "DataFrame type: <class 'pandas.core.frame.DataFrame'>\n",
      "Column types:\n",
      " name     object\n",
      "marks     int64\n",
      "city     object\n",
      "dtype: object\n"
     ]
    }
   ],
   "source": [
    "# Data types and structure\n",
    "print(\"DataFrame type:\", type(df))\n",
    "print(\"Column types:\\n\", df.dtypes)"
   ]
  },
  {
   "cell_type": "markdown",
   "id": "5bd2f44d",
   "metadata": {},
   "source": [
    "### 4. Series Basics"
   ]
  },
  {
   "cell_type": "code",
   "execution_count": 41,
   "id": "2f42f479",
   "metadata": {},
   "outputs": [],
   "source": [
    "ser = pd.Series(np.random.rand(10))"
   ]
  },
  {
   "cell_type": "code",
   "execution_count": 42,
   "id": "9d20c56c",
   "metadata": {},
   "outputs": [
    {
     "data": {
      "text/plain": [
       "0    0.854924\n",
       "1    0.897712\n",
       "2    0.721365\n",
       "3    0.644486\n",
       "4    0.755798\n",
       "5    0.869751\n",
       "6    0.905349\n",
       "7    0.308139\n",
       "8    0.748196\n",
       "9    0.721085\n",
       "dtype: float64"
      ]
     },
     "execution_count": 42,
     "metadata": {},
     "output_type": "execute_result"
    }
   ],
   "source": [
    "ser"
   ]
  },
  {
   "cell_type": "code",
   "execution_count": 43,
   "id": "b7e2dec4",
   "metadata": {},
   "outputs": [
    {
     "data": {
      "text/plain": [
       "pandas.core.series.Series"
      ]
     },
     "execution_count": 43,
     "metadata": {},
     "output_type": "execute_result"
    }
   ],
   "source": [
    "type(ser)"
   ]
  },
  {
   "cell_type": "markdown",
   "id": "ca8b12e6",
   "metadata": {},
   "source": [
    "### 5. Creating a larger DataFrame"
   ]
  },
  {
   "cell_type": "code",
   "execution_count": 55,
   "id": "dc7507a3",
   "metadata": {},
   "outputs": [],
   "source": [
    "newdf = pd.DataFrame(np.random.rand(334,5), index=np.arange(334))"
   ]
  },
  {
   "cell_type": "code",
   "execution_count": 56,
   "id": "d19958be",
   "metadata": {},
   "outputs": [
    {
     "data": {
      "text/html": [
       "<div>\n",
       "<style scoped>\n",
       "    .dataframe tbody tr th:only-of-type {\n",
       "        vertical-align: middle;\n",
       "    }\n",
       "\n",
       "    .dataframe tbody tr th {\n",
       "        vertical-align: top;\n",
       "    }\n",
       "\n",
       "    .dataframe thead th {\n",
       "        text-align: right;\n",
       "    }\n",
       "</style>\n",
       "<table border=\"1\" class=\"dataframe\">\n",
       "  <thead>\n",
       "    <tr style=\"text-align: right;\">\n",
       "      <th></th>\n",
       "      <th>0</th>\n",
       "      <th>1</th>\n",
       "      <th>2</th>\n",
       "      <th>3</th>\n",
       "      <th>4</th>\n",
       "    </tr>\n",
       "  </thead>\n",
       "  <tbody>\n",
       "    <tr>\n",
       "      <th>0</th>\n",
       "      <td>0.680326</td>\n",
       "      <td>0.444609</td>\n",
       "      <td>0.737381</td>\n",
       "      <td>0.926465</td>\n",
       "      <td>0.210791</td>\n",
       "    </tr>\n",
       "    <tr>\n",
       "      <th>1</th>\n",
       "      <td>0.994479</td>\n",
       "      <td>0.843828</td>\n",
       "      <td>0.444487</td>\n",
       "      <td>0.265997</td>\n",
       "      <td>0.543546</td>\n",
       "    </tr>\n",
       "    <tr>\n",
       "      <th>2</th>\n",
       "      <td>0.979069</td>\n",
       "      <td>0.684499</td>\n",
       "      <td>0.792912</td>\n",
       "      <td>0.079226</td>\n",
       "      <td>0.828514</td>\n",
       "    </tr>\n",
       "    <tr>\n",
       "      <th>3</th>\n",
       "      <td>0.133546</td>\n",
       "      <td>0.408596</td>\n",
       "      <td>0.680990</td>\n",
       "      <td>0.983165</td>\n",
       "      <td>0.946867</td>\n",
       "    </tr>\n",
       "    <tr>\n",
       "      <th>4</th>\n",
       "      <td>0.428192</td>\n",
       "      <td>0.856108</td>\n",
       "      <td>0.116806</td>\n",
       "      <td>0.735393</td>\n",
       "      <td>0.462838</td>\n",
       "    </tr>\n",
       "    <tr>\n",
       "      <th>...</th>\n",
       "      <td>...</td>\n",
       "      <td>...</td>\n",
       "      <td>...</td>\n",
       "      <td>...</td>\n",
       "      <td>...</td>\n",
       "    </tr>\n",
       "    <tr>\n",
       "      <th>329</th>\n",
       "      <td>0.281289</td>\n",
       "      <td>0.474395</td>\n",
       "      <td>0.728351</td>\n",
       "      <td>0.431291</td>\n",
       "      <td>0.494211</td>\n",
       "    </tr>\n",
       "    <tr>\n",
       "      <th>330</th>\n",
       "      <td>0.224863</td>\n",
       "      <td>0.992648</td>\n",
       "      <td>0.873594</td>\n",
       "      <td>0.834432</td>\n",
       "      <td>0.609246</td>\n",
       "    </tr>\n",
       "    <tr>\n",
       "      <th>331</th>\n",
       "      <td>0.939508</td>\n",
       "      <td>0.853817</td>\n",
       "      <td>0.273040</td>\n",
       "      <td>0.545513</td>\n",
       "      <td>0.485389</td>\n",
       "    </tr>\n",
       "    <tr>\n",
       "      <th>332</th>\n",
       "      <td>0.654407</td>\n",
       "      <td>0.222441</td>\n",
       "      <td>0.731549</td>\n",
       "      <td>0.664746</td>\n",
       "      <td>0.958930</td>\n",
       "    </tr>\n",
       "    <tr>\n",
       "      <th>333</th>\n",
       "      <td>0.357812</td>\n",
       "      <td>0.023423</td>\n",
       "      <td>0.723223</td>\n",
       "      <td>0.525130</td>\n",
       "      <td>0.381443</td>\n",
       "    </tr>\n",
       "  </tbody>\n",
       "</table>\n",
       "<p>334 rows × 5 columns</p>\n",
       "</div>"
      ],
      "text/plain": [
       "            0         1         2         3         4\n",
       "0    0.680326  0.444609  0.737381  0.926465  0.210791\n",
       "1    0.994479  0.843828  0.444487  0.265997  0.543546\n",
       "2    0.979069  0.684499  0.792912  0.079226  0.828514\n",
       "3    0.133546  0.408596  0.680990  0.983165  0.946867\n",
       "4    0.428192  0.856108  0.116806  0.735393  0.462838\n",
       "..        ...       ...       ...       ...       ...\n",
       "329  0.281289  0.474395  0.728351  0.431291  0.494211\n",
       "330  0.224863  0.992648  0.873594  0.834432  0.609246\n",
       "331  0.939508  0.853817  0.273040  0.545513  0.485389\n",
       "332  0.654407  0.222441  0.731549  0.664746  0.958930\n",
       "333  0.357812  0.023423  0.723223  0.525130  0.381443\n",
       "\n",
       "[334 rows x 5 columns]"
      ]
     },
     "execution_count": 56,
     "metadata": {},
     "output_type": "execute_result"
    }
   ],
   "source": [
    "newdf"
   ]
  },
  {
   "cell_type": "code",
   "execution_count": 57,
   "id": "50225053",
   "metadata": {},
   "outputs": [
    {
     "data": {
      "text/plain": [
       "pandas.core.frame.DataFrame"
      ]
     },
     "execution_count": 57,
     "metadata": {},
     "output_type": "execute_result"
    }
   ],
   "source": [
    "type(newdf)"
   ]
  },
  {
   "cell_type": "markdown",
   "id": "30fae492",
   "metadata": {},
   "source": [
    "### 7. Data Inspection"
   ]
  },
  {
   "cell_type": "code",
   "execution_count": 58,
   "id": "ef6a7e3e",
   "metadata": {},
   "outputs": [
    {
     "data": {
      "text/html": [
       "<div>\n",
       "<style scoped>\n",
       "    .dataframe tbody tr th:only-of-type {\n",
       "        vertical-align: middle;\n",
       "    }\n",
       "\n",
       "    .dataframe tbody tr th {\n",
       "        vertical-align: top;\n",
       "    }\n",
       "\n",
       "    .dataframe thead th {\n",
       "        text-align: right;\n",
       "    }\n",
       "</style>\n",
       "<table border=\"1\" class=\"dataframe\">\n",
       "  <thead>\n",
       "    <tr style=\"text-align: right;\">\n",
       "      <th></th>\n",
       "      <th>0</th>\n",
       "      <th>1</th>\n",
       "      <th>2</th>\n",
       "      <th>3</th>\n",
       "      <th>4</th>\n",
       "    </tr>\n",
       "  </thead>\n",
       "  <tbody>\n",
       "    <tr>\n",
       "      <th>count</th>\n",
       "      <td>334.000000</td>\n",
       "      <td>334.000000</td>\n",
       "      <td>334.000000</td>\n",
       "      <td>334.000000</td>\n",
       "      <td>334.000000</td>\n",
       "    </tr>\n",
       "    <tr>\n",
       "      <th>mean</th>\n",
       "      <td>0.520654</td>\n",
       "      <td>0.536425</td>\n",
       "      <td>0.505639</td>\n",
       "      <td>0.511351</td>\n",
       "      <td>0.503624</td>\n",
       "    </tr>\n",
       "    <tr>\n",
       "      <th>std</th>\n",
       "      <td>0.286673</td>\n",
       "      <td>0.291057</td>\n",
       "      <td>0.284550</td>\n",
       "      <td>0.282192</td>\n",
       "      <td>0.288455</td>\n",
       "    </tr>\n",
       "    <tr>\n",
       "      <th>min</th>\n",
       "      <td>0.003906</td>\n",
       "      <td>0.013538</td>\n",
       "      <td>0.001201</td>\n",
       "      <td>0.002807</td>\n",
       "      <td>0.003964</td>\n",
       "    </tr>\n",
       "    <tr>\n",
       "      <th>25%</th>\n",
       "      <td>0.277818</td>\n",
       "      <td>0.281615</td>\n",
       "      <td>0.263296</td>\n",
       "      <td>0.288869</td>\n",
       "      <td>0.272733</td>\n",
       "    </tr>\n",
       "    <tr>\n",
       "      <th>50%</th>\n",
       "      <td>0.539551</td>\n",
       "      <td>0.542751</td>\n",
       "      <td>0.542394</td>\n",
       "      <td>0.507755</td>\n",
       "      <td>0.505185</td>\n",
       "    </tr>\n",
       "    <tr>\n",
       "      <th>75%</th>\n",
       "      <td>0.767571</td>\n",
       "      <td>0.802067</td>\n",
       "      <td>0.731660</td>\n",
       "      <td>0.749579</td>\n",
       "      <td>0.761734</td>\n",
       "    </tr>\n",
       "    <tr>\n",
       "      <th>max</th>\n",
       "      <td>0.996217</td>\n",
       "      <td>0.998876</td>\n",
       "      <td>0.999222</td>\n",
       "      <td>0.999784</td>\n",
       "      <td>0.991732</td>\n",
       "    </tr>\n",
       "  </tbody>\n",
       "</table>\n",
       "</div>"
      ],
      "text/plain": [
       "                0           1           2           3           4\n",
       "count  334.000000  334.000000  334.000000  334.000000  334.000000\n",
       "mean     0.520654    0.536425    0.505639    0.511351    0.503624\n",
       "std      0.286673    0.291057    0.284550    0.282192    0.288455\n",
       "min      0.003906    0.013538    0.001201    0.002807    0.003964\n",
       "25%      0.277818    0.281615    0.263296    0.288869    0.272733\n",
       "50%      0.539551    0.542751    0.542394    0.507755    0.505185\n",
       "75%      0.767571    0.802067    0.731660    0.749579    0.761734\n",
       "max      0.996217    0.998876    0.999222    0.999784    0.991732"
      ]
     },
     "execution_count": 58,
     "metadata": {},
     "output_type": "execute_result"
    }
   ],
   "source": [
    "newdf.describe()"
   ]
  },
  {
   "cell_type": "code",
   "execution_count": 59,
   "id": "f297de89",
   "metadata": {},
   "outputs": [
    {
     "data": {
      "text/plain": [
       "0    float64\n",
       "1    float64\n",
       "2    float64\n",
       "3    float64\n",
       "4    float64\n",
       "dtype: object"
      ]
     },
     "execution_count": 59,
     "metadata": {},
     "output_type": "execute_result"
    }
   ],
   "source": [
    "newdf.dtypes"
   ]
  },
  {
   "cell_type": "code",
   "execution_count": null,
   "id": "c1f0154f",
   "metadata": {},
   "outputs": [
    {
     "data": {
      "text/html": [
       "<div>\n",
       "<style scoped>\n",
       "    .dataframe tbody tr th:only-of-type {\n",
       "        vertical-align: middle;\n",
       "    }\n",
       "\n",
       "    .dataframe tbody tr th {\n",
       "        vertical-align: top;\n",
       "    }\n",
       "\n",
       "    .dataframe thead th {\n",
       "        text-align: right;\n",
       "    }\n",
       "</style>\n",
       "<table border=\"1\" class=\"dataframe\">\n",
       "  <thead>\n",
       "    <tr style=\"text-align: right;\">\n",
       "      <th></th>\n",
       "      <th>0</th>\n",
       "      <th>1</th>\n",
       "      <th>2</th>\n",
       "      <th>3</th>\n",
       "      <th>4</th>\n",
       "      <th>5</th>\n",
       "      <th>6</th>\n",
       "      <th>7</th>\n",
       "      <th>8</th>\n",
       "      <th>9</th>\n",
       "      <th>...</th>\n",
       "      <th>324</th>\n",
       "      <th>325</th>\n",
       "      <th>326</th>\n",
       "      <th>327</th>\n",
       "      <th>328</th>\n",
       "      <th>329</th>\n",
       "      <th>330</th>\n",
       "      <th>331</th>\n",
       "      <th>332</th>\n",
       "      <th>333</th>\n",
       "    </tr>\n",
       "  </thead>\n",
       "  <tbody>\n",
       "    <tr>\n",
       "      <th>0</th>\n",
       "      <td>0.680326</td>\n",
       "      <td>0.994479</td>\n",
       "      <td>0.979069</td>\n",
       "      <td>0.133546</td>\n",
       "      <td>0.428192</td>\n",
       "      <td>0.912482</td>\n",
       "      <td>0.835483</td>\n",
       "      <td>0.583906</td>\n",
       "      <td>0.859766</td>\n",
       "      <td>0.120041</td>\n",
       "      <td>...</td>\n",
       "      <td>0.291906</td>\n",
       "      <td>0.031995</td>\n",
       "      <td>0.248095</td>\n",
       "      <td>0.413071</td>\n",
       "      <td>0.539459</td>\n",
       "      <td>0.281289</td>\n",
       "      <td>0.224863</td>\n",
       "      <td>0.939508</td>\n",
       "      <td>0.654407</td>\n",
       "      <td>0.357812</td>\n",
       "    </tr>\n",
       "    <tr>\n",
       "      <th>1</th>\n",
       "      <td>0.444609</td>\n",
       "      <td>0.843828</td>\n",
       "      <td>0.684499</td>\n",
       "      <td>0.408596</td>\n",
       "      <td>0.856108</td>\n",
       "      <td>0.553148</td>\n",
       "      <td>0.115535</td>\n",
       "      <td>0.543324</td>\n",
       "      <td>0.421571</td>\n",
       "      <td>0.742330</td>\n",
       "      <td>...</td>\n",
       "      <td>0.229743</td>\n",
       "      <td>0.245803</td>\n",
       "      <td>0.398655</td>\n",
       "      <td>0.349185</td>\n",
       "      <td>0.160214</td>\n",
       "      <td>0.474395</td>\n",
       "      <td>0.992648</td>\n",
       "      <td>0.853817</td>\n",
       "      <td>0.222441</td>\n",
       "      <td>0.023423</td>\n",
       "    </tr>\n",
       "    <tr>\n",
       "      <th>2</th>\n",
       "      <td>0.737381</td>\n",
       "      <td>0.444487</td>\n",
       "      <td>0.792912</td>\n",
       "      <td>0.680990</td>\n",
       "      <td>0.116806</td>\n",
       "      <td>0.593020</td>\n",
       "      <td>0.055890</td>\n",
       "      <td>0.629592</td>\n",
       "      <td>0.170101</td>\n",
       "      <td>0.411607</td>\n",
       "      <td>...</td>\n",
       "      <td>0.698761</td>\n",
       "      <td>0.685992</td>\n",
       "      <td>0.671330</td>\n",
       "      <td>0.637604</td>\n",
       "      <td>0.309978</td>\n",
       "      <td>0.728351</td>\n",
       "      <td>0.873594</td>\n",
       "      <td>0.273040</td>\n",
       "      <td>0.731549</td>\n",
       "      <td>0.723223</td>\n",
       "    </tr>\n",
       "    <tr>\n",
       "      <th>3</th>\n",
       "      <td>0.926465</td>\n",
       "      <td>0.265997</td>\n",
       "      <td>0.079226</td>\n",
       "      <td>0.983165</td>\n",
       "      <td>0.735393</td>\n",
       "      <td>0.521928</td>\n",
       "      <td>0.227661</td>\n",
       "      <td>0.948596</td>\n",
       "      <td>0.746926</td>\n",
       "      <td>0.126017</td>\n",
       "      <td>...</td>\n",
       "      <td>0.048640</td>\n",
       "      <td>0.461289</td>\n",
       "      <td>0.664472</td>\n",
       "      <td>0.355235</td>\n",
       "      <td>0.657567</td>\n",
       "      <td>0.431291</td>\n",
       "      <td>0.834432</td>\n",
       "      <td>0.545513</td>\n",
       "      <td>0.664746</td>\n",
       "      <td>0.525130</td>\n",
       "    </tr>\n",
       "    <tr>\n",
       "      <th>4</th>\n",
       "      <td>0.210791</td>\n",
       "      <td>0.543546</td>\n",
       "      <td>0.828514</td>\n",
       "      <td>0.946867</td>\n",
       "      <td>0.462838</td>\n",
       "      <td>0.986029</td>\n",
       "      <td>0.018708</td>\n",
       "      <td>0.926358</td>\n",
       "      <td>0.445879</td>\n",
       "      <td>0.974340</td>\n",
       "      <td>...</td>\n",
       "      <td>0.919277</td>\n",
       "      <td>0.420717</td>\n",
       "      <td>0.432485</td>\n",
       "      <td>0.339304</td>\n",
       "      <td>0.121806</td>\n",
       "      <td>0.494211</td>\n",
       "      <td>0.609246</td>\n",
       "      <td>0.485389</td>\n",
       "      <td>0.958930</td>\n",
       "      <td>0.381443</td>\n",
       "    </tr>\n",
       "  </tbody>\n",
       "</table>\n",
       "<p>5 rows × 334 columns</p>\n",
       "</div>"
      ],
      "text/plain": [
       "        0         1         2         3         4         5         6    \\\n",
       "0  0.680326  0.994479  0.979069  0.133546  0.428192  0.912482  0.835483   \n",
       "1  0.444609  0.843828  0.684499  0.408596  0.856108  0.553148  0.115535   \n",
       "2  0.737381  0.444487  0.792912  0.680990  0.116806  0.593020  0.055890   \n",
       "3  0.926465  0.265997  0.079226  0.983165  0.735393  0.521928  0.227661   \n",
       "4  0.210791  0.543546  0.828514  0.946867  0.462838  0.986029  0.018708   \n",
       "\n",
       "        7         8         9    ...       324       325       326       327  \\\n",
       "0  0.583906  0.859766  0.120041  ...  0.291906  0.031995  0.248095  0.413071   \n",
       "1  0.543324  0.421571  0.742330  ...  0.229743  0.245803  0.398655  0.349185   \n",
       "2  0.629592  0.170101  0.411607  ...  0.698761  0.685992  0.671330  0.637604   \n",
       "3  0.948596  0.746926  0.126017  ...  0.048640  0.461289  0.664472  0.355235   \n",
       "4  0.926358  0.445879  0.974340  ...  0.919277  0.420717  0.432485  0.339304   \n",
       "\n",
       "        328       329       330       331       332       333  \n",
       "0  0.539459  0.281289  0.224863  0.939508  0.654407  0.357812  \n",
       "1  0.160214  0.474395  0.992648  0.853817  0.222441  0.023423  \n",
       "2  0.309978  0.728351  0.873594  0.273040  0.731549  0.723223  \n",
       "3  0.657567  0.431291  0.834432  0.545513  0.664746  0.525130  \n",
       "4  0.121806  0.494211  0.609246  0.485389  0.958930  0.381443  \n",
       "\n",
       "[5 rows x 334 columns]"
      ]
     },
     "execution_count": 61,
     "metadata": {},
     "output_type": "execute_result"
    }
   ],
   "source": [
    "# Transpose\n",
    "newdf.T"
   ]
  },
  {
   "cell_type": "markdown",
   "id": "65fa7122",
   "metadata": {},
   "source": [
    "### 7. Changing Cell Values"
   ]
  },
  {
   "cell_type": "code",
   "execution_count": 62,
   "id": "6556d648",
   "metadata": {},
   "outputs": [
    {
     "name": "stderr",
     "output_type": "stream",
     "text": [
      "C:\\Users\\PC\\AppData\\Local\\Temp\\ipykernel_8116\\577483512.py:2: FutureWarning: Setting an item of incompatible dtype is deprecated and will raise in a future error of pandas. Value 'imran' has dtype incompatible with float64, please explicitly cast to a compatible dtype first.\n",
      "  newdf.at[2, 4] = \"imran\"\n"
     ]
    },
    {
     "data": {
      "text/plain": [
       "0    float64\n",
       "1    float64\n",
       "2    float64\n",
       "3    float64\n",
       "4     object\n",
       "dtype: object"
      ]
     },
     "execution_count": 62,
     "metadata": {},
     "output_type": "execute_result"
    }
   ],
   "source": [
    "# Changing a float to string (note: this will change the column dtype to object)\n",
    "newdf.at[2, 4] = \"imran\"\n",
    "newdf.dtypes"
   ]
  },
  {
   "cell_type": "code",
   "execution_count": 64,
   "id": "1d5476c5",
   "metadata": {},
   "outputs": [
    {
     "data": {
      "text/html": [
       "<div>\n",
       "<style scoped>\n",
       "    .dataframe tbody tr th:only-of-type {\n",
       "        vertical-align: middle;\n",
       "    }\n",
       "\n",
       "    .dataframe tbody tr th {\n",
       "        vertical-align: top;\n",
       "    }\n",
       "\n",
       "    .dataframe thead th {\n",
       "        text-align: right;\n",
       "    }\n",
       "</style>\n",
       "<table border=\"1\" class=\"dataframe\">\n",
       "  <thead>\n",
       "    <tr style=\"text-align: right;\">\n",
       "      <th></th>\n",
       "      <th>0</th>\n",
       "      <th>1</th>\n",
       "      <th>2</th>\n",
       "      <th>3</th>\n",
       "      <th>4</th>\n",
       "    </tr>\n",
       "  </thead>\n",
       "  <tbody>\n",
       "    <tr>\n",
       "      <th>0</th>\n",
       "      <td>0.680326</td>\n",
       "      <td>0.444609</td>\n",
       "      <td>0.737381</td>\n",
       "      <td>0.926465</td>\n",
       "      <td>0.210791</td>\n",
       "    </tr>\n",
       "    <tr>\n",
       "      <th>1</th>\n",
       "      <td>0.994479</td>\n",
       "      <td>0.843828</td>\n",
       "      <td>0.444487</td>\n",
       "      <td>0.265997</td>\n",
       "      <td>0.543546</td>\n",
       "    </tr>\n",
       "    <tr>\n",
       "      <th>2</th>\n",
       "      <td>0.979069</td>\n",
       "      <td>0.684499</td>\n",
       "      <td>0.792912</td>\n",
       "      <td>0.079226</td>\n",
       "      <td>imran</td>\n",
       "    </tr>\n",
       "  </tbody>\n",
       "</table>\n",
       "</div>"
      ],
      "text/plain": [
       "          0         1         2         3         4\n",
       "0  0.680326  0.444609  0.737381  0.926465  0.210791\n",
       "1  0.994479  0.843828  0.444487  0.265997  0.543546\n",
       "2  0.979069  0.684499  0.792912  0.079226     imran"
      ]
     },
     "execution_count": 64,
     "metadata": {},
     "output_type": "execute_result"
    }
   ],
   "source": [
    "newdf.head(3)"
   ]
  },
  {
   "cell_type": "markdown",
   "id": "741789d4",
   "metadata": {},
   "source": [
    "### 8. Conversion to NumPy Array"
   ]
  },
  {
   "cell_type": "code",
   "execution_count": 65,
   "id": "e10e683a",
   "metadata": {},
   "outputs": [
    {
     "data": {
      "text/plain": [
       "array([[0.6803261562635726, 0.4446090065191557, 0.737380651363786,\n",
       "        0.9264645746576524, 0.210791486048711],\n",
       "       [0.9944788704927782, 0.8438283966990127, 0.4444868739310942,\n",
       "        0.2659972777965596, 0.5435459440582056],\n",
       "       [0.979068598513308, 0.6844992352601887, 0.7929124828490757,\n",
       "        0.07922605106796177, 'imran'],\n",
       "       ...,\n",
       "       [0.939507985680922, 0.8538167403507672, 0.2730401920297201,\n",
       "        0.5455134833821114, 0.48538871848214493],\n",
       "       [0.6544073648188558, 0.2224408325602909, 0.7315493887946857,\n",
       "        0.6647456863590113, 0.9589295644565623],\n",
       "       [0.35781248023579604, 0.02342262535545836, 0.7232230077307734,\n",
       "        0.5251297095846236, 0.3814427128329114]], dtype=object)"
      ]
     },
     "execution_count": 65,
     "metadata": {},
     "output_type": "execute_result"
    }
   ],
   "source": [
    "newdf.to_numpy()"
   ]
  },
  {
   "cell_type": "markdown",
   "id": "0cfb8b51",
   "metadata": {},
   "source": [
    "### 9. Indexing and Filtering"
   ]
  },
  {
   "cell_type": "code",
   "execution_count": 68,
   "id": "5b896b0b",
   "metadata": {},
   "outputs": [
    {
     "data": {
      "text/plain": [
       "0      0.444609\n",
       "1      0.843828\n",
       "2      0.684499\n",
       "3      0.408596\n",
       "4      0.856108\n",
       "         ...   \n",
       "329    0.474395\n",
       "330    0.992648\n",
       "331    0.853817\n",
       "332    0.222441\n",
       "333    0.023423\n",
       "Name: 1, Length: 334, dtype: float64"
      ]
     },
     "execution_count": 68,
     "metadata": {},
     "output_type": "execute_result"
    }
   ],
   "source": [
    "# Column access\n",
    "newdf[1]"
   ]
  },
  {
   "cell_type": "code",
   "execution_count": 69,
   "id": "68419781",
   "metadata": {},
   "outputs": [
    {
     "name": "stdout",
     "output_type": "stream",
     "text": [
      "0    0.680326\n",
      "1    0.444609\n",
      "2    0.737381\n",
      "3    0.926465\n",
      "4    0.210791\n",
      "Name: 0, dtype: object\n",
      "0    0.680326\n",
      "1    0.444609\n",
      "2    0.737381\n",
      "3    0.926465\n",
      "4    0.210791\n",
      "Name: 0, dtype: object\n"
     ]
    }
   ],
   "source": [
    "# Row access using loc and iloc\n",
    "print(newdf.loc[0])   # by label\n",
    "print(newdf.iloc[0])  # by index"
   ]
  },
  {
   "cell_type": "code",
   "execution_count": 70,
   "id": "8aee0e14",
   "metadata": {},
   "outputs": [
    {
     "data": {
      "text/html": [
       "<div>\n",
       "<style scoped>\n",
       "    .dataframe tbody tr th:only-of-type {\n",
       "        vertical-align: middle;\n",
       "    }\n",
       "\n",
       "    .dataframe tbody tr th {\n",
       "        vertical-align: top;\n",
       "    }\n",
       "\n",
       "    .dataframe thead th {\n",
       "        text-align: right;\n",
       "    }\n",
       "</style>\n",
       "<table border=\"1\" class=\"dataframe\">\n",
       "  <thead>\n",
       "    <tr style=\"text-align: right;\">\n",
       "      <th></th>\n",
       "      <th>name</th>\n",
       "      <th>marks</th>\n",
       "      <th>city</th>\n",
       "    </tr>\n",
       "  </thead>\n",
       "  <tbody>\n",
       "    <tr>\n",
       "      <th>0</th>\n",
       "      <td>khan</td>\n",
       "      <td>92</td>\n",
       "      <td>mardan</td>\n",
       "    </tr>\n",
       "    <tr>\n",
       "      <th>3</th>\n",
       "      <td>akram</td>\n",
       "      <td>75</td>\n",
       "      <td>sialkot</td>\n",
       "    </tr>\n",
       "  </tbody>\n",
       "</table>\n",
       "</div>"
      ],
      "text/plain": [
       "    name  marks     city\n",
       "0   khan     92   mardan\n",
       "3  akram     75  sialkot"
      ]
     },
     "execution_count": 70,
     "metadata": {},
     "output_type": "execute_result"
    }
   ],
   "source": [
    "# Conditional filtering\n",
    "filtered = df[df['marks'] > 60]\n",
    "filtered"
   ]
  },
  {
   "cell_type": "markdown",
   "id": "913172f1",
   "metadata": {},
   "source": [
    "### 10. Handling Missing Values"
   ]
  },
  {
   "cell_type": "code",
   "execution_count": 71,
   "id": "6b83455b",
   "metadata": {},
   "outputs": [],
   "source": [
    "df_missing = pd.DataFrame({\n",
    "    'A': [1, 2, np.nan, 4],\n",
    "    'B': [5, np.nan, np.nan, 8],\n",
    "    'C': [10, 11, 12, 13]\n",
    "})"
   ]
  },
  {
   "cell_type": "code",
   "execution_count": 72,
   "id": "4bf71367",
   "metadata": {},
   "outputs": [
    {
     "data": {
      "text/html": [
       "<div>\n",
       "<style scoped>\n",
       "    .dataframe tbody tr th:only-of-type {\n",
       "        vertical-align: middle;\n",
       "    }\n",
       "\n",
       "    .dataframe tbody tr th {\n",
       "        vertical-align: top;\n",
       "    }\n",
       "\n",
       "    .dataframe thead th {\n",
       "        text-align: right;\n",
       "    }\n",
       "</style>\n",
       "<table border=\"1\" class=\"dataframe\">\n",
       "  <thead>\n",
       "    <tr style=\"text-align: right;\">\n",
       "      <th></th>\n",
       "      <th>A</th>\n",
       "      <th>B</th>\n",
       "      <th>C</th>\n",
       "    </tr>\n",
       "  </thead>\n",
       "  <tbody>\n",
       "    <tr>\n",
       "      <th>0</th>\n",
       "      <td>False</td>\n",
       "      <td>False</td>\n",
       "      <td>False</td>\n",
       "    </tr>\n",
       "    <tr>\n",
       "      <th>1</th>\n",
       "      <td>False</td>\n",
       "      <td>True</td>\n",
       "      <td>False</td>\n",
       "    </tr>\n",
       "    <tr>\n",
       "      <th>2</th>\n",
       "      <td>True</td>\n",
       "      <td>True</td>\n",
       "      <td>False</td>\n",
       "    </tr>\n",
       "    <tr>\n",
       "      <th>3</th>\n",
       "      <td>False</td>\n",
       "      <td>False</td>\n",
       "      <td>False</td>\n",
       "    </tr>\n",
       "  </tbody>\n",
       "</table>\n",
       "</div>"
      ],
      "text/plain": [
       "       A      B      C\n",
       "0  False  False  False\n",
       "1  False   True  False\n",
       "2   True   True  False\n",
       "3  False  False  False"
      ]
     },
     "execution_count": 72,
     "metadata": {},
     "output_type": "execute_result"
    }
   ],
   "source": [
    "# Detecting missing values\n",
    "df_missing.isnull()"
   ]
  },
  {
   "cell_type": "code",
   "execution_count": 79,
   "id": "15d462e3",
   "metadata": {},
   "outputs": [
    {
     "data": {
      "text/html": [
       "<div>\n",
       "<style scoped>\n",
       "    .dataframe tbody tr th:only-of-type {\n",
       "        vertical-align: middle;\n",
       "    }\n",
       "\n",
       "    .dataframe tbody tr th {\n",
       "        vertical-align: top;\n",
       "    }\n",
       "\n",
       "    .dataframe thead th {\n",
       "        text-align: right;\n",
       "    }\n",
       "</style>\n",
       "<table border=\"1\" class=\"dataframe\">\n",
       "  <thead>\n",
       "    <tr style=\"text-align: right;\">\n",
       "      <th></th>\n",
       "      <th>A</th>\n",
       "      <th>B</th>\n",
       "      <th>C</th>\n",
       "    </tr>\n",
       "  </thead>\n",
       "  <tbody>\n",
       "    <tr>\n",
       "      <th>0</th>\n",
       "      <td>1.0</td>\n",
       "      <td>5.0</td>\n",
       "      <td>10</td>\n",
       "    </tr>\n",
       "    <tr>\n",
       "      <th>3</th>\n",
       "      <td>4.0</td>\n",
       "      <td>8.0</td>\n",
       "      <td>13</td>\n",
       "    </tr>\n",
       "  </tbody>\n",
       "</table>\n",
       "</div>"
      ],
      "text/plain": [
       "     A    B   C\n",
       "0  1.0  5.0  10\n",
       "3  4.0  8.0  13"
      ]
     },
     "execution_count": 79,
     "metadata": {},
     "output_type": "execute_result"
    }
   ],
   "source": [
    "# Dropping missing values\n",
    "df_missing.dropna()"
   ]
  },
  {
   "cell_type": "code",
   "execution_count": 80,
   "id": "4bd2e2aa",
   "metadata": {},
   "outputs": [
    {
     "data": {
      "text/html": [
       "<div>\n",
       "<style scoped>\n",
       "    .dataframe tbody tr th:only-of-type {\n",
       "        vertical-align: middle;\n",
       "    }\n",
       "\n",
       "    .dataframe tbody tr th {\n",
       "        vertical-align: top;\n",
       "    }\n",
       "\n",
       "    .dataframe thead th {\n",
       "        text-align: right;\n",
       "    }\n",
       "</style>\n",
       "<table border=\"1\" class=\"dataframe\">\n",
       "  <thead>\n",
       "    <tr style=\"text-align: right;\">\n",
       "      <th></th>\n",
       "      <th>A</th>\n",
       "      <th>B</th>\n",
       "      <th>C</th>\n",
       "    </tr>\n",
       "  </thead>\n",
       "  <tbody>\n",
       "    <tr>\n",
       "      <th>0</th>\n",
       "      <td>1.0</td>\n",
       "      <td>5.0</td>\n",
       "      <td>10</td>\n",
       "    </tr>\n",
       "    <tr>\n",
       "      <th>1</th>\n",
       "      <td>2.0</td>\n",
       "      <td>0.0</td>\n",
       "      <td>11</td>\n",
       "    </tr>\n",
       "    <tr>\n",
       "      <th>2</th>\n",
       "      <td>0.0</td>\n",
       "      <td>0.0</td>\n",
       "      <td>12</td>\n",
       "    </tr>\n",
       "    <tr>\n",
       "      <th>3</th>\n",
       "      <td>4.0</td>\n",
       "      <td>8.0</td>\n",
       "      <td>13</td>\n",
       "    </tr>\n",
       "  </tbody>\n",
       "</table>\n",
       "</div>"
      ],
      "text/plain": [
       "     A    B   C\n",
       "0  1.0  5.0  10\n",
       "1  2.0  0.0  11\n",
       "2  0.0  0.0  12\n",
       "3  4.0  8.0  13"
      ]
     },
     "execution_count": 80,
     "metadata": {},
     "output_type": "execute_result"
    }
   ],
   "source": [
    "# Filling missing values\n",
    "df_missing.fillna(value=0)"
   ]
  },
  {
   "cell_type": "code",
   "execution_count": 81,
   "id": "2387050c",
   "metadata": {},
   "outputs": [
    {
     "data": {
      "text/html": [
       "<div>\n",
       "<style scoped>\n",
       "    .dataframe tbody tr th:only-of-type {\n",
       "        vertical-align: middle;\n",
       "    }\n",
       "\n",
       "    .dataframe tbody tr th {\n",
       "        vertical-align: top;\n",
       "    }\n",
       "\n",
       "    .dataframe thead th {\n",
       "        text-align: right;\n",
       "    }\n",
       "</style>\n",
       "<table border=\"1\" class=\"dataframe\">\n",
       "  <thead>\n",
       "    <tr style=\"text-align: right;\">\n",
       "      <th></th>\n",
       "      <th>A</th>\n",
       "      <th>B</th>\n",
       "      <th>C</th>\n",
       "    </tr>\n",
       "  </thead>\n",
       "  <tbody>\n",
       "    <tr>\n",
       "      <th>0</th>\n",
       "      <td>1.000000</td>\n",
       "      <td>5.0</td>\n",
       "      <td>10</td>\n",
       "    </tr>\n",
       "    <tr>\n",
       "      <th>1</th>\n",
       "      <td>2.000000</td>\n",
       "      <td>6.5</td>\n",
       "      <td>11</td>\n",
       "    </tr>\n",
       "    <tr>\n",
       "      <th>2</th>\n",
       "      <td>2.333333</td>\n",
       "      <td>6.5</td>\n",
       "      <td>12</td>\n",
       "    </tr>\n",
       "    <tr>\n",
       "      <th>3</th>\n",
       "      <td>4.000000</td>\n",
       "      <td>8.0</td>\n",
       "      <td>13</td>\n",
       "    </tr>\n",
       "  </tbody>\n",
       "</table>\n",
       "</div>"
      ],
      "text/plain": [
       "          A    B   C\n",
       "0  1.000000  5.0  10\n",
       "1  2.000000  6.5  11\n",
       "2  2.333333  6.5  12\n",
       "3  4.000000  8.0  13"
      ]
     },
     "execution_count": 81,
     "metadata": {},
     "output_type": "execute_result"
    }
   ],
   "source": [
    "# Mean imputation\n",
    "df_missing.fillna(df_missing.mean(numeric_only=True))"
   ]
  },
  {
   "cell_type": "markdown",
   "id": "847bf7e1",
   "metadata": {},
   "source": [
    "### 11. Visualization"
   ]
  },
  {
   "cell_type": "code",
   "execution_count": 97,
   "id": "dfa45c9d",
   "metadata": {},
   "outputs": [],
   "source": [
    "df_line = pd.DataFrame({\n",
    "    'Year': [2018, 2019, 2020, 2021, 2022],\n",
    "    'Sales': [100, 120, 150, 170, 160]\n",
    "})\n",
    "df_line.set_index('Year', inplace=True)"
   ]
  },
  {
   "cell_type": "code",
   "execution_count": 100,
   "id": "deb2dd3d",
   "metadata": {},
   "outputs": [
    {
     "data": {
      "text/plain": [
       "<Axes: title={'center': 'Annual Sales'}, xlabel='Year'>"
      ]
     },
     "execution_count": 100,
     "metadata": {},
     "output_type": "execute_result"
    },
    {
     "data": {
      "image/png": "[encoded data removed]",
      "text/plain": [
       "<Figure size 640x480 with 1 Axes>"
      ]
     },
     "metadata": {},
     "output_type": "display_data"
    }
   ],
   "source": [
    "# Line plot\n",
    "df_line.plot(title=\"Annual Sales\", marker='o')\n",
    "\n",
    "# import matplotlib.pyplot as plt\n",
    "# plt.xticks(df_line.index.astype(int))"
   ]
  },
  {
   "cell_type": "code",
   "execution_count": 101,
   "id": "d36ed533",
   "metadata": {},
   "outputs": [],
   "source": [
    "df_bar = pd.DataFrame({\n",
    "    'Product': ['A', 'B', 'C', 'D'],\n",
    "    'Revenue': [240, 300, 150, 400]\n",
    "})"
   ]
  },
  {
   "cell_type": "code",
   "execution_count": 102,
   "id": "b3c62188",
   "metadata": {},
   "outputs": [
    {
     "data": {
      "text/plain": [
       "<Axes: title={'center': 'Revenue by Product'}, xlabel='Product'>"
      ]
     },
     "execution_count": 102,
     "metadata": {},
     "output_type": "execute_result"
    },
    {
     "data": {
      "image/png": "[encoded data removed]",
      "text/plain": [
       "<Figure size 640x480 with 1 Axes>"
      ]
     },
     "metadata": {},
     "output_type": "display_data"
    }
   ],
   "source": [
    "# Bar Plot\n",
    "df_bar.plot(kind='bar', x='Product', y='Revenue', title=\"Revenue by Product\", color='skyblue')"
   ]
  },
  {
   "cell_type": "code",
   "execution_count": 103,
   "id": "a6b17c6d",
   "metadata": {},
   "outputs": [
    {
     "data": {
      "text/plain": [
       "<Axes: title={'center': 'Market Share'}>"
      ]
     },
     "execution_count": 103,
     "metadata": {},
     "output_type": "execute_result"
    },
    {
     "data": {
      "image/png": "[encoded data removed]",
      "text/plain": [
       "<Figure size 500x500 with 1 Axes>"
      ]
     },
     "metadata": {},
     "output_type": "display_data"
    }
   ],
   "source": [
    "# Pie chart for market share\n",
    "df_pie = pd.Series({'A': 25, 'B': 35, 'C': 15, 'D': 25})\n",
    "df_pie.plot.pie(autopct='%1.1f%%', title='Market Share', figsize=(5,5))"
   ]
  },
  {
   "cell_type": "markdown",
   "id": "ff944f6b",
   "metadata": {},
   "source": [
    "---\n",
    "__Thank You__"
   ]
  }
 ],
 "metadata": {
  "kernelspec": {
   "display_name": "myenv",
   "language": "python",
   "name": "python3"
  },
  "language_info": {
   "codemirror_mode": {
    "name": "ipython",
    "version": 3
   },
   "file_extension": ".py",
   "mimetype": "text/x-python",
   "name": "python",
   "nbconvert_exporter": "python",
   "pygments_lexer": "ipython3",
   "version": "3.10.11"
  }
 },
 "nbformat": 4,
 "nbformat_minor": 5
}
